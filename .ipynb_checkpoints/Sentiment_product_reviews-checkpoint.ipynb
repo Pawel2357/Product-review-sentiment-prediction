{
 "cells": [
  {
   "cell_type": "markdown",
   "metadata": {},
   "source": [
    "[Project description](https://www.coursera.org/learn/ml-classification/supplement/NtMAS/predicting-sentiment-from-product-reviews)"
   ]
  },
  {
   "cell_type": "markdown",
   "metadata": {},
   "source": [
    "# Plan\n",
    "    1. Understand the challange. What questions do I want to answer?\n",
    "    2. Prepare the data and conduct descriptive analysis.\n",
    "        A. Load the data\n",
    "        B. Remove punctuation\n",
    "    3. Choose and create a model. Train the model.\n",
    "    4. Test the model. Interpret the results.\n",
    "    5. Answer the questions."
   ]
  },
  {
   "cell_type": "markdown",
   "metadata": {},
   "source": [
    "1. The purpose of the project is to predict a sentiment of a product review. The model should predict does a review is positive or negative?"
   ]
  },
  {
   "cell_type": "markdown",
   "metadata": {},
   "source": [
    "2.A. Load the data."
   ]
  },
  {
   "cell_type": "code",
   "execution_count": 6,
   "metadata": {
    "collapsed": true
   },
   "outputs": [],
   "source": [
    "import pandas as pd"
   ]
  },
  {
   "cell_type": "code",
   "execution_count": 5,
   "metadata": {
    "collapsed": false
   },
   "outputs": [
    {
     "name": "stdout",
     "output_type": "stream",
     "text": [
      "                                                     name  \\\n",
      "0                                Planetwise Flannel Wipes   \n",
      "1                                   Planetwise Wipe Pouch   \n",
      "2                     Annas Dream Full Quilt with 2 Shams   \n",
      "3       Stop Pacifier Sucking without tears with Thumb...   \n",
      "4       Stop Pacifier Sucking without tears with Thumb...   \n",
      "5       Stop Pacifier Sucking without tears with Thumb...   \n",
      "6                 A Tale of Baby's Days with Peter Rabbit   \n",
      "7       Baby Tracker&reg; - Daily Childcare Journal, S...   \n",
      "8       Baby Tracker&reg; - Daily Childcare Journal, S...   \n",
      "9       Baby Tracker&reg; - Daily Childcare Journal, S...   \n",
      "10      Baby Tracker&reg; - Daily Childcare Journal, S...   \n",
      "11      Baby Tracker&reg; - Daily Childcare Journal, S...   \n",
      "12      Baby Tracker&reg; - Daily Childcare Journal, S...   \n",
      "13      Baby Tracker&reg; - Daily Childcare Journal, S...   \n",
      "14         Nature's Lullabies First Year Sticker Calendar   \n",
      "15         Nature's Lullabies First Year Sticker Calendar   \n",
      "16         Nature's Lullabies First Year Sticker Calendar   \n",
      "17        Nature's Lullabies Second Year Sticker Calendar   \n",
      "18        Nature's Lullabies Second Year Sticker Calendar   \n",
      "19        Nature's Lullabies Second Year Sticker Calendar   \n",
      "20        Nature's Lullabies Second Year Sticker Calendar   \n",
      "21        Nature's Lullabies Second Year Sticker Calendar   \n",
      "22        Nature's Lullabies Second Year Sticker Calendar   \n",
      "23        Nature's Lullabies Second Year Sticker Calendar   \n",
      "24        Nature's Lullabies Second Year Sticker Calendar   \n",
      "25        Nature's Lullabies Second Year Sticker Calendar   \n",
      "26                           Baby's First Journal - Green   \n",
      "27                            Lamaze Peekaboo, I Love You   \n",
      "28                            Lamaze Peekaboo, I Love You   \n",
      "29                            Lamaze Peekaboo, I Love You   \n",
      "...                                                   ...   \n",
      "183501  Maxboost iPhone 5S/5 Case - Protective Snap-on...   \n",
      "183502  Maxboost iPhone 5S/5 Case - Protective Snap-on...   \n",
      "183503  Maxboost iPhone 5S/5 Case - Protective Snap-on...   \n",
      "183504  Maxboost iPhone 5S/5 Case - Protective Snap-on...   \n",
      "183505  Maxboost iPhone 5S/5 Case - Protective Snap-on...   \n",
      "183506  Maxboost iPhone 5S/5 Case - Protective Snap-on...   \n",
      "183507  Maxboost iPhone 5S/5 Case - Protective Snap-on...   \n",
      "183508  Maxboost iPhone 5S/5 Case - Protective Snap-on...   \n",
      "183509  Maxboost iPhone 5S/5 Case - Protective Snap-on...   \n",
      "183510  Maxboost iPhone 5S/5 Case - Protective Snap-on...   \n",
      "183511  Maxboost iPhone 5S/5 Case - Protective Snap-on...   \n",
      "183512  Maxboost iPhone 5S/5 Case - Protective Snap-on...   \n",
      "183513  Maxboost iPhone 5S/5 Case - Protective Snap-on...   \n",
      "183514  Maxboost iPhone 5S/5 Case - Protective Snap-on...   \n",
      "183515  Maxboost iPhone 5S/5 Case - Protective Snap-on...   \n",
      "183516  BoogieBulb&reg; - The First True Cleanable &am...   \n",
      "183517  Baby Mucus Extractor, Nasal Aspirator From Dr....   \n",
      "183518  Baby Mucus Extractor, Nasal Aspirator From Dr....   \n",
      "183519  Baby Mucus Extractor, Nasal Aspirator From Dr....   \n",
      "183520  Baby Mucus Extractor, Nasal Aspirator From Dr....   \n",
      "183521  Airline Seat Belt Extender - The Best Extensio...   \n",
      "183522  Airline Seat Belt Extender - The Best Extensio...   \n",
      "183523  Squeasy Snacker 6oz Silicone Reusable Food Pou...   \n",
      "183524  Squeasy Snacker 6oz Silicone Reusable Food Pou...   \n",
      "183525  Squeasy Snacker 6oz Silicone Reusable Food Pou...   \n",
      "183526  Baby Teething Necklace for Mom Pretty Donut Sh...   \n",
      "183527  Baby Teething Necklace for Mom Pretty Donut Sh...   \n",
      "183528   Abstract 2 PK Baby / Toddler Training Cup (Pink)   \n",
      "183529  Baby Food Freezer Tray - Bacteria Resistant, B...   \n",
      "183530  Best 2 Pack Baby Car Shade for Kids - Window S...   \n",
      "\n",
      "                                                   review  rating  \n",
      "0       These flannel wipes are OK, but in my opinion ...       3  \n",
      "1       it came early and was not disappointed. i love...       5  \n",
      "2       Very soft and comfortable and warmer than it l...       5  \n",
      "3       This is a product well worth the purchase.  I ...       5  \n",
      "4       All of my kids have cried non-stop when I trie...       5  \n",
      "5       When the Binky Fairy came to our house, we did...       5  \n",
      "6       Lovely book, it's bound tightly so you may not...       4  \n",
      "7       Perfect for new parents. We were able to keep ...       5  \n",
      "8       A friend of mine pinned this product on Pinter...       5  \n",
      "9       This has been an easy way for my nanny to reco...       4  \n",
      "10      I love this journal and our nanny uses it ever...       4  \n",
      "11      This book is perfect!  I'm a first time new mo...       5  \n",
      "12      I originally just gave the nanny a pad of pape...       4  \n",
      "13      I thought keeping a simple handwritten journal...       3  \n",
      "14      Space for monthly photos, info and a lot of us...       5  \n",
      "15      I bought this calender for myself for my secon...       4  \n",
      "16      I love this little calender, you can keep trac...       5  \n",
      "17      This was the only calender I could find for th...       5  \n",
      "18      I completed a calendar for my son's first year...       4  \n",
      "19      We wanted to get something to keep track of ou...       5  \n",
      "20      I had a hard time finding a second year calend...       5  \n",
      "21      I only purchased a second-year calendar for my...       2  \n",
      "22      I LOVE this calendar for recording events of m...       5  \n",
      "23      Calendar is exactly as described, but I find t...       3  \n",
      "24      Wife loves this calender. Comes with a lot of ...       5  \n",
      "25      My daughter had her 1st baby over a year ago. ...       5  \n",
      "26      Extremely useful! As a new mom, tired and inex...       5  \n",
      "27      My son loves peek a boo at this age of 9 month...       3  \n",
      "28      One of baby's first and favorite books, and it...       4  \n",
      "29      I like how the book has a hook to attach it to...       5  \n",
      "...                                                   ...     ...  \n",
      "183501  I received a free sample from VIPU program for...       5  \n",
      "183502  It got here incredibly fast & it is a nice dur...       5  \n",
      "183503  I got this case in the mail today, it came on ...       2  \n",
      "183504  Free caseLove it... The color was great firm h...       5  \n",
      "183505  I received a free sample from VIPU program for...       5  \n",
      "183506  This case definitely isn't cheap. It feels ver...       5  \n",
      "183507  got this for my wife and she loves it would de...       5  \n",
      "183508  love this case. It fit perfectly and the color...       5  \n",
      "183509  this case is the greatest very cool and stylis...       5  \n",
      "183510              Great fit. Really love how red it is.       5  \n",
      "183511  I received a free sample from VIPU program for...       3  \n",
      "183512  *I received a free sample from VIPU program fo...       5  \n",
      "183513  I was a very surprised by the quality of this ...       5  \n",
      "183514  I received a free sample from VIPU program for...       4  \n",
      "183515  I love this phone case!  My  iPhone is always ...       5  \n",
      "183516  I've ordered a ton of &#34;suckers&#34; to try...       3  \n",
      "183517  I recieved this product free of charge and abs...       5  \n",
      "183518  The tube is soft and easy to use, and the tip ...       5  \n",
      "183519  I love this so much. It works way better than ...       5  \n",
      "183520  The aspirator works well but needs to come wit...       4  \n",
      "183521  Up until recently I have hated flying, putting...       5  \n",
      "183522  I bought this as a father's day gift for my da...       5  \n",
      "183523  I love that these can hold purees OR liquids, ...       5  \n",
      "183524  I love this product, it makes my life easier. ...       5  \n",
      "183525  This reusable squeeze bottle is the best I hav...       5  \n",
      "183526  Such a great idea! very handy to have and look...       5  \n",
      "183527  This product rocks!  It is a great blend of fu...       5  \n",
      "183528  This item looks great and cool for my kids.......       5  \n",
      "183529  I am extremely happy with this product. I have...       5  \n",
      "183530  I love this product very mush . I have bought ...       5  \n",
      "\n",
      "[183531 rows x 3 columns]\n"
     ]
    }
   ],
   "source": [
    "products = pd.read_csv( \"./amazon_baby.csv\" )\n",
    "print( products )"
   ]
  },
  {
   "cell_type": "markdown",
   "metadata": {},
   "source": [
    "2.B. Remove punctuation from the reviews."
   ]
  },
  {
   "cell_type": "code",
   "execution_count": 8,
   "metadata": {
    "collapsed": false
   },
   "outputs": [
    {
     "ename": "TypeError",
     "evalue": "translate() takes exactly one argument (2 given)",
     "output_type": "error",
     "traceback": [
      "\u001b[1;31m---------------------------------------------------------------------------\u001b[0m",
      "\u001b[1;31mTypeError\u001b[0m                                 Traceback (most recent call last)",
      "\u001b[1;32m<ipython-input-8-d105874f7449>\u001b[0m in \u001b[0;36m<module>\u001b[1;34m()\u001b[0m\n\u001b[0;32m      4\u001b[0m     \u001b[1;32mreturn\u001b[0m \u001b[0mtext\u001b[0m\u001b[1;33m.\u001b[0m\u001b[0mtranslate\u001b[0m\u001b[1;33m(\u001b[0m\u001b[1;32mNone\u001b[0m\u001b[1;33m,\u001b[0m \u001b[0mst\u001b[0m\u001b[1;33m.\u001b[0m\u001b[0mpunctuation\u001b[0m\u001b[1;33m)\u001b[0m\u001b[1;33m\u001b[0m\u001b[0m\n\u001b[0;32m      5\u001b[0m \u001b[1;33m\u001b[0m\u001b[0m\n\u001b[1;32m----> 6\u001b[1;33m \u001b[0mproducts\u001b[0m\u001b[1;33m[\u001b[0m \u001b[1;34m'review_clean'\u001b[0m \u001b[1;33m]\u001b[0m \u001b[1;33m=\u001b[0m \u001b[0mproducts\u001b[0m\u001b[1;33m[\u001b[0m \u001b[1;34m'review'\u001b[0m \u001b[1;33m]\u001b[0m\u001b[1;33m.\u001b[0m\u001b[0mapply\u001b[0m\u001b[1;33m(\u001b[0m \u001b[0mremove_punctuation\u001b[0m \u001b[1;33m)\u001b[0m\u001b[1;33m\u001b[0m\u001b[0m\n\u001b[0m\u001b[0;32m      7\u001b[0m \u001b[0mprint\u001b[0m\u001b[1;33m(\u001b[0m \u001b[0mproducts\u001b[0m\u001b[1;33m[\u001b[0m \u001b[1;34m'review_clean'\u001b[0m \u001b[1;33m]\u001b[0m \u001b[1;33m)\u001b[0m\u001b[1;33m\u001b[0m\u001b[0m\n",
      "\u001b[1;32m/home/pawel/anaconda3/lib/python3.5/site-packages/pandas/core/series.py\u001b[0m in \u001b[0;36mapply\u001b[1;34m(self, func, convert_dtype, args, **kwds)\u001b[0m\n\u001b[0;32m   2167\u001b[0m             \u001b[0mvalues\u001b[0m \u001b[1;33m=\u001b[0m \u001b[0mlib\u001b[0m\u001b[1;33m.\u001b[0m\u001b[0mmap_infer\u001b[0m\u001b[1;33m(\u001b[0m\u001b[0mvalues\u001b[0m\u001b[1;33m,\u001b[0m \u001b[0mlib\u001b[0m\u001b[1;33m.\u001b[0m\u001b[0mTimestamp\u001b[0m\u001b[1;33m)\u001b[0m\u001b[1;33m\u001b[0m\u001b[0m\n\u001b[0;32m   2168\u001b[0m \u001b[1;33m\u001b[0m\u001b[0m\n\u001b[1;32m-> 2169\u001b[1;33m         \u001b[0mmapped\u001b[0m \u001b[1;33m=\u001b[0m \u001b[0mlib\u001b[0m\u001b[1;33m.\u001b[0m\u001b[0mmap_infer\u001b[0m\u001b[1;33m(\u001b[0m\u001b[0mvalues\u001b[0m\u001b[1;33m,\u001b[0m \u001b[0mf\u001b[0m\u001b[1;33m,\u001b[0m \u001b[0mconvert\u001b[0m\u001b[1;33m=\u001b[0m\u001b[0mconvert_dtype\u001b[0m\u001b[1;33m)\u001b[0m\u001b[1;33m\u001b[0m\u001b[0m\n\u001b[0m\u001b[0;32m   2170\u001b[0m         \u001b[1;32mif\u001b[0m \u001b[0mlen\u001b[0m\u001b[1;33m(\u001b[0m\u001b[0mmapped\u001b[0m\u001b[1;33m)\u001b[0m \u001b[1;32mand\u001b[0m \u001b[0misinstance\u001b[0m\u001b[1;33m(\u001b[0m\u001b[0mmapped\u001b[0m\u001b[1;33m[\u001b[0m\u001b[1;36m0\u001b[0m\u001b[1;33m]\u001b[0m\u001b[1;33m,\u001b[0m \u001b[0mSeries\u001b[0m\u001b[1;33m)\u001b[0m\u001b[1;33m:\u001b[0m\u001b[1;33m\u001b[0m\u001b[0m\n\u001b[0;32m   2171\u001b[0m             \u001b[1;32mfrom\u001b[0m \u001b[0mpandas\u001b[0m\u001b[1;33m.\u001b[0m\u001b[0mcore\u001b[0m\u001b[1;33m.\u001b[0m\u001b[0mframe\u001b[0m \u001b[1;32mimport\u001b[0m \u001b[0mDataFrame\u001b[0m\u001b[1;33m\u001b[0m\u001b[0m\n",
      "\u001b[1;32mpandas/src/inference.pyx\u001b[0m in \u001b[0;36mpandas.lib.map_infer (pandas/lib.c:62578)\u001b[1;34m()\u001b[0m\n",
      "\u001b[1;32m<ipython-input-8-d105874f7449>\u001b[0m in \u001b[0;36mremove_punctuation\u001b[1;34m(text)\u001b[0m\n\u001b[0;32m      2\u001b[0m \u001b[1;33m\u001b[0m\u001b[0m\n\u001b[0;32m      3\u001b[0m \u001b[1;32mdef\u001b[0m \u001b[0mremove_punctuation\u001b[0m\u001b[1;33m(\u001b[0m\u001b[0mtext\u001b[0m\u001b[1;33m)\u001b[0m\u001b[1;33m:\u001b[0m\u001b[1;33m\u001b[0m\u001b[0m\n\u001b[1;32m----> 4\u001b[1;33m     \u001b[1;32mreturn\u001b[0m \u001b[0mtext\u001b[0m\u001b[1;33m.\u001b[0m\u001b[0mtranslate\u001b[0m\u001b[1;33m(\u001b[0m\u001b[1;32mNone\u001b[0m\u001b[1;33m,\u001b[0m \u001b[0mst\u001b[0m\u001b[1;33m.\u001b[0m\u001b[0mpunctuation\u001b[0m\u001b[1;33m)\u001b[0m\u001b[1;33m\u001b[0m\u001b[0m\n\u001b[0m\u001b[0;32m      5\u001b[0m \u001b[1;33m\u001b[0m\u001b[0m\n\u001b[0;32m      6\u001b[0m \u001b[0mproducts\u001b[0m\u001b[1;33m[\u001b[0m \u001b[1;34m'review_clean'\u001b[0m \u001b[1;33m]\u001b[0m \u001b[1;33m=\u001b[0m \u001b[0mproducts\u001b[0m\u001b[1;33m[\u001b[0m \u001b[1;34m'review'\u001b[0m \u001b[1;33m]\u001b[0m\u001b[1;33m.\u001b[0m\u001b[0mapply\u001b[0m\u001b[1;33m(\u001b[0m \u001b[0mremove_punctuation\u001b[0m \u001b[1;33m)\u001b[0m\u001b[1;33m\u001b[0m\u001b[0m\n",
      "\u001b[1;31mTypeError\u001b[0m: translate() takes exactly one argument (2 given)"
     ]
    }
   ],
   "source": [
    "import string as st\n",
    "\n",
    "def remove_punctuation(text):\n",
    "    return text.translate( None, st.punctuation ) \n",
    "\n",
    "products[ 'review_clean' ] = products[ 'review' ].apply( remove_punctuation )\n",
    "print( products[ 'review_clean' ] )"
   ]
  },
  {
   "cell_type": "code",
   "execution_count": null,
   "metadata": {
    "collapsed": true
   },
   "outputs": [],
   "source": []
  }
 ],
 "metadata": {
  "kernelspec": {
   "display_name": "Python 3",
   "language": "python",
   "name": "python3"
  },
  "language_info": {
   "codemirror_mode": {
    "name": "ipython",
    "version": 3
   },
   "file_extension": ".py",
   "mimetype": "text/x-python",
   "name": "python",
   "nbconvert_exporter": "python",
   "pygments_lexer": "ipython3",
   "version": "3.5.1"
  }
 },
 "nbformat": 4,
 "nbformat_minor": 0
}
