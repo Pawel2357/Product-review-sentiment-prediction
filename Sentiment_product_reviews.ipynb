{
 "cells": [
  {
   "cell_type": "markdown",
   "metadata": {},
   "source": [
    "[Project description](https://www.coursera.org/learn/ml-classification/supplement/NtMAS/predicting-sentiment-from-product-reviews)"
   ]
  },
  {
   "cell_type": "markdown",
   "metadata": {},
   "source": [
    "# Plan\n",
    "    1. Understand the challange. What questions do I want to answer?\n",
    "    2. Prepare the data and conduct descriptive analysis.\n",
    "        A. Load the data\n",
    "        B. Remove punctuation\n",
    "        C. Remove n/a fields in the reviews\n",
    "        D. Exptract sentiments. Ignore neutral reviews with rating 3.\n",
    "        E. Create a new column that assign positive or negative value for each of the review.\n",
    "    3. Choose and create a model. Train the model.\n",
    "        A. Choose the right model.\n",
    "        B. Split the dataset into training and test.\n",
    "        C. Create vectors(train, test) using words in the reviews. Use common bug-of-words representation. Choose words from train dataset.\n",
    "        D. Trein logistic regression model.\n",
    "    4. Test the model. Interpret the results.\n",
    "        A. Count all positive weights in the model.\n",
    "        B. Test the model with simple test data.\n",
    "    5. Answer the questions."
   ]
  },
  {
   "cell_type": "markdown",
   "metadata": {},
   "source": [
    "1. The purpose of the project is to predict a sentiment of a product review. The model should predict does a review is positive or negative?"
   ]
  },
  {
   "cell_type": "markdown",
   "metadata": {},
   "source": [
    "2.A. Load the data."
   ]
  },
  {
   "cell_type": "code",
   "execution_count": 25,
   "metadata": {
    "collapsed": true
   },
   "outputs": [],
   "source": [
    "import pandas as pd\n",
    "import string as st\n",
    "import numpy as np\n",
    "from sklearn.cross_validation import train_test_split"
   ]
  },
  {
   "cell_type": "code",
   "execution_count": 26,
   "metadata": {
    "collapsed": false
   },
   "outputs": [
    {
     "name": "stdout",
     "output_type": "stream",
     "text": [
      "                                                     name  \\\n",
      "0                                Planetwise Flannel Wipes   \n",
      "1                                   Planetwise Wipe Pouch   \n",
      "2                     Annas Dream Full Quilt with 2 Shams   \n",
      "3       Stop Pacifier Sucking without tears with Thumb...   \n",
      "4       Stop Pacifier Sucking without tears with Thumb...   \n",
      "5       Stop Pacifier Sucking without tears with Thumb...   \n",
      "6                 A Tale of Baby's Days with Peter Rabbit   \n",
      "7       Baby Tracker&reg; - Daily Childcare Journal, S...   \n",
      "8       Baby Tracker&reg; - Daily Childcare Journal, S...   \n",
      "9       Baby Tracker&reg; - Daily Childcare Journal, S...   \n",
      "10      Baby Tracker&reg; - Daily Childcare Journal, S...   \n",
      "11      Baby Tracker&reg; - Daily Childcare Journal, S...   \n",
      "12      Baby Tracker&reg; - Daily Childcare Journal, S...   \n",
      "13      Baby Tracker&reg; - Daily Childcare Journal, S...   \n",
      "14         Nature's Lullabies First Year Sticker Calendar   \n",
      "15         Nature's Lullabies First Year Sticker Calendar   \n",
      "16         Nature's Lullabies First Year Sticker Calendar   \n",
      "17        Nature's Lullabies Second Year Sticker Calendar   \n",
      "18        Nature's Lullabies Second Year Sticker Calendar   \n",
      "19        Nature's Lullabies Second Year Sticker Calendar   \n",
      "20        Nature's Lullabies Second Year Sticker Calendar   \n",
      "21        Nature's Lullabies Second Year Sticker Calendar   \n",
      "22        Nature's Lullabies Second Year Sticker Calendar   \n",
      "23        Nature's Lullabies Second Year Sticker Calendar   \n",
      "24        Nature's Lullabies Second Year Sticker Calendar   \n",
      "25        Nature's Lullabies Second Year Sticker Calendar   \n",
      "26                           Baby's First Journal - Green   \n",
      "27                            Lamaze Peekaboo, I Love You   \n",
      "28                            Lamaze Peekaboo, I Love You   \n",
      "29                            Lamaze Peekaboo, I Love You   \n",
      "...                                                   ...   \n",
      "183501  Maxboost iPhone 5S/5 Case - Protective Snap-on...   \n",
      "183502  Maxboost iPhone 5S/5 Case - Protective Snap-on...   \n",
      "183503  Maxboost iPhone 5S/5 Case - Protective Snap-on...   \n",
      "183504  Maxboost iPhone 5S/5 Case - Protective Snap-on...   \n",
      "183505  Maxboost iPhone 5S/5 Case - Protective Snap-on...   \n",
      "183506  Maxboost iPhone 5S/5 Case - Protective Snap-on...   \n",
      "183507  Maxboost iPhone 5S/5 Case - Protective Snap-on...   \n",
      "183508  Maxboost iPhone 5S/5 Case - Protective Snap-on...   \n",
      "183509  Maxboost iPhone 5S/5 Case - Protective Snap-on...   \n",
      "183510  Maxboost iPhone 5S/5 Case - Protective Snap-on...   \n",
      "183511  Maxboost iPhone 5S/5 Case - Protective Snap-on...   \n",
      "183512  Maxboost iPhone 5S/5 Case - Protective Snap-on...   \n",
      "183513  Maxboost iPhone 5S/5 Case - Protective Snap-on...   \n",
      "183514  Maxboost iPhone 5S/5 Case - Protective Snap-on...   \n",
      "183515  Maxboost iPhone 5S/5 Case - Protective Snap-on...   \n",
      "183516  BoogieBulb&reg; - The First True Cleanable &am...   \n",
      "183517  Baby Mucus Extractor, Nasal Aspirator From Dr....   \n",
      "183518  Baby Mucus Extractor, Nasal Aspirator From Dr....   \n",
      "183519  Baby Mucus Extractor, Nasal Aspirator From Dr....   \n",
      "183520  Baby Mucus Extractor, Nasal Aspirator From Dr....   \n",
      "183521  Airline Seat Belt Extender - The Best Extensio...   \n",
      "183522  Airline Seat Belt Extender - The Best Extensio...   \n",
      "183523  Squeasy Snacker 6oz Silicone Reusable Food Pou...   \n",
      "183524  Squeasy Snacker 6oz Silicone Reusable Food Pou...   \n",
      "183525  Squeasy Snacker 6oz Silicone Reusable Food Pou...   \n",
      "183526  Baby Teething Necklace for Mom Pretty Donut Sh...   \n",
      "183527  Baby Teething Necklace for Mom Pretty Donut Sh...   \n",
      "183528   Abstract 2 PK Baby / Toddler Training Cup (Pink)   \n",
      "183529  Baby Food Freezer Tray - Bacteria Resistant, B...   \n",
      "183530  Best 2 Pack Baby Car Shade for Kids - Window S...   \n",
      "\n",
      "                                                   review  rating  \n",
      "0       These flannel wipes are OK, but in my opinion ...       3  \n",
      "1       it came early and was not disappointed. i love...       5  \n",
      "2       Very soft and comfortable and warmer than it l...       5  \n",
      "3       This is a product well worth the purchase.  I ...       5  \n",
      "4       All of my kids have cried non-stop when I trie...       5  \n",
      "5       When the Binky Fairy came to our house, we did...       5  \n",
      "6       Lovely book, it's bound tightly so you may not...       4  \n",
      "7       Perfect for new parents. We were able to keep ...       5  \n",
      "8       A friend of mine pinned this product on Pinter...       5  \n",
      "9       This has been an easy way for my nanny to reco...       4  \n",
      "10      I love this journal and our nanny uses it ever...       4  \n",
      "11      This book is perfect!  I'm a first time new mo...       5  \n",
      "12      I originally just gave the nanny a pad of pape...       4  \n",
      "13      I thought keeping a simple handwritten journal...       3  \n",
      "14      Space for monthly photos, info and a lot of us...       5  \n",
      "15      I bought this calender for myself for my secon...       4  \n",
      "16      I love this little calender, you can keep trac...       5  \n",
      "17      This was the only calender I could find for th...       5  \n",
      "18      I completed a calendar for my son's first year...       4  \n",
      "19      We wanted to get something to keep track of ou...       5  \n",
      "20      I had a hard time finding a second year calend...       5  \n",
      "21      I only purchased a second-year calendar for my...       2  \n",
      "22      I LOVE this calendar for recording events of m...       5  \n",
      "23      Calendar is exactly as described, but I find t...       3  \n",
      "24      Wife loves this calender. Comes with a lot of ...       5  \n",
      "25      My daughter had her 1st baby over a year ago. ...       5  \n",
      "26      Extremely useful! As a new mom, tired and inex...       5  \n",
      "27      My son loves peek a boo at this age of 9 month...       3  \n",
      "28      One of baby's first and favorite books, and it...       4  \n",
      "29      I like how the book has a hook to attach it to...       5  \n",
      "...                                                   ...     ...  \n",
      "183501  I received a free sample from VIPU program for...       5  \n",
      "183502  It got here incredibly fast & it is a nice dur...       5  \n",
      "183503  I got this case in the mail today, it came on ...       2  \n",
      "183504  Free caseLove it... The color was great firm h...       5  \n",
      "183505  I received a free sample from VIPU program for...       5  \n",
      "183506  This case definitely isn't cheap. It feels ver...       5  \n",
      "183507  got this for my wife and she loves it would de...       5  \n",
      "183508  love this case. It fit perfectly and the color...       5  \n",
      "183509  this case is the greatest very cool and stylis...       5  \n",
      "183510              Great fit. Really love how red it is.       5  \n",
      "183511  I received a free sample from VIPU program for...       3  \n",
      "183512  *I received a free sample from VIPU program fo...       5  \n",
      "183513  I was a very surprised by the quality of this ...       5  \n",
      "183514  I received a free sample from VIPU program for...       4  \n",
      "183515  I love this phone case!  My  iPhone is always ...       5  \n",
      "183516  I've ordered a ton of &#34;suckers&#34; to try...       3  \n",
      "183517  I recieved this product free of charge and abs...       5  \n",
      "183518  The tube is soft and easy to use, and the tip ...       5  \n",
      "183519  I love this so much. It works way better than ...       5  \n",
      "183520  The aspirator works well but needs to come wit...       4  \n",
      "183521  Up until recently I have hated flying, putting...       5  \n",
      "183522  I bought this as a father's day gift for my da...       5  \n",
      "183523  I love that these can hold purees OR liquids, ...       5  \n",
      "183524  I love this product, it makes my life easier. ...       5  \n",
      "183525  This reusable squeeze bottle is the best I hav...       5  \n",
      "183526  Such a great idea! very handy to have and look...       5  \n",
      "183527  This product rocks!  It is a great blend of fu...       5  \n",
      "183528  This item looks great and cool for my kids.......       5  \n",
      "183529  I am extremely happy with this product. I have...       5  \n",
      "183530  I love this product very mush . I have bought ...       5  \n",
      "\n",
      "[183531 rows x 3 columns]\n"
     ]
    }
   ],
   "source": [
    "products = pd.read_csv( \"./amazon_baby.csv\" )\n",
    "print( products )"
   ]
  },
  {
   "cell_type": "markdown",
   "metadata": {},
   "source": [
    "2.B. Remove punctuation from the reviews."
   ]
  },
  {
   "cell_type": "code",
   "execution_count": 27,
   "metadata": {
    "collapsed": false
   },
   "outputs": [
    {
     "name": "stdout",
     "output_type": "stream",
     "text": [
      "0         These flannel wipes are OK but in my opinion n...\n",
      "1         it came early and was not disappointed i love ...\n",
      "2         Very soft and comfortable and warmer than it l...\n",
      "3         This is a product well worth the purchase  I h...\n",
      "4         All of my kids have cried nonstop when I tried...\n",
      "5         When the Binky Fairy came to our house we didn...\n",
      "6         Lovely book its bound tightly so you may not b...\n",
      "7         Perfect for new parents We were able to keep t...\n",
      "8         A friend of mine pinned this product on Pinter...\n",
      "9         This has been an easy way for my nanny to reco...\n",
      "10        I love this journal and our nanny uses it ever...\n",
      "11        This book is perfect  Im a first time new mom ...\n",
      "12        I originally just gave the nanny a pad of pape...\n",
      "13        I thought keeping a simple handwritten journal...\n",
      "14        Space for monthly photos info and a lot of use...\n",
      "15        I bought this calender for myself for my secon...\n",
      "16        I love this little calender you can keep track...\n",
      "17        This was the only calender I could find for th...\n",
      "18        I completed a calendar for my sons first year ...\n",
      "19        We wanted to get something to keep track of ou...\n",
      "20        I had a hard time finding a second year calend...\n",
      "21        I only purchased a secondyear calendar for my ...\n",
      "22        I LOVE this calendar for recording events of m...\n",
      "23        Calendar is exactly as described but I find th...\n",
      "24        Wife loves this calender Comes with a lot of s...\n",
      "25        My daughter had her 1st baby over a year ago S...\n",
      "26        Extremely useful As a new mom tired and inexpe...\n",
      "27        My son loves peek a boo at this age of 9 month...\n",
      "28        One of babys first and favorite books and it i...\n",
      "29        I like how the book has a hook to attach it to...\n",
      "                                ...                        \n",
      "183501    I received a free sample from VIPU program for...\n",
      "183502    It got here incredibly fast  it is a nice dura...\n",
      "183503    I got this case in the mail today it came on t...\n",
      "183504    Free caseLove it The color was great firm hold...\n",
      "183505    I received a free sample from VIPU program for...\n",
      "183506    This case definitely isnt cheap It feels very ...\n",
      "183507    got this for my wife and she loves it would de...\n",
      "183508    love this case It fit perfectly and the color ...\n",
      "183509    this case is the greatest very cool and stylis...\n",
      "183510                  Great fit Really love how red it is\n",
      "183511    I received a free sample from VIPU program for...\n",
      "183512    I received a free sample from VIPU program for...\n",
      "183513    I was a very surprised by the quality of this ...\n",
      "183514    I received a free sample from VIPU program for...\n",
      "183515    I love this phone case  My  iPhone is always s...\n",
      "183516    Ive ordered a ton of 34suckers34 to try and fi...\n",
      "183517    I recieved this product free of charge and abs...\n",
      "183518    The tube is soft and easy to use and the tip i...\n",
      "183519    I love this so much It works way better than t...\n",
      "183520    The aspirator works well but needs to come wit...\n",
      "183521    Up until recently I have hated flying putting ...\n",
      "183522    I bought this as a fathers day gift for my dad...\n",
      "183523    I love that these can hold purees OR liquids a...\n",
      "183524    I love this product it makes my life easier Wi...\n",
      "183525    This reusable squeeze bottle is the best I hav...\n",
      "183526    Such a great idea very handy to have and look ...\n",
      "183527    This product rocks  It is a great blend of fun...\n",
      "183528    This item looks great and cool for my kidsI kn...\n",
      "183529    I am extremely happy with this product I have ...\n",
      "183530    I love this product very mush  I have bought m...\n",
      "Name: review_clean, dtype: object\n"
     ]
    }
   ],
   "source": [
    "import string as st\n",
    "\n",
    "def remove_punctuation(text):\n",
    "    translator = str.maketrans({key: None for key in st.punctuation})\n",
    "    text = str( text )\n",
    "    text = text.translate( translator )\n",
    "    return text\n",
    "\n",
    "products[ 'review_clean' ] = products[ 'review' ].apply( remove_punctuation )\n",
    "print( products[ 'review_clean' ] )"
   ]
  },
  {
   "cell_type": "markdown",
   "metadata": {},
   "source": [
    "2.C. "
   ]
  },
  {
   "cell_type": "code",
   "execution_count": 28,
   "metadata": {
    "collapsed": false
   },
   "outputs": [],
   "source": [
    "products = products.fillna({'review':''})  # fill in N/A's in the review column"
   ]
  },
  {
   "cell_type": "markdown",
   "metadata": {
    "collapsed": false
   },
   "source": [
    "2.D."
   ]
  },
  {
   "cell_type": "code",
   "execution_count": 29,
   "metadata": {
    "collapsed": false
   },
   "outputs": [
    {
     "name": "stdout",
     "output_type": "stream",
     "text": [
      "1         1\n",
      "2         1\n",
      "3         1\n",
      "4         1\n",
      "5         1\n",
      "6         1\n",
      "7         1\n",
      "8         1\n",
      "9         1\n",
      "10        1\n",
      "11        1\n",
      "12        1\n",
      "14        1\n",
      "15        1\n",
      "16        1\n",
      "17        1\n",
      "18        1\n",
      "19        1\n",
      "20        1\n",
      "21       -1\n",
      "22        1\n",
      "24        1\n",
      "25        1\n",
      "26        1\n",
      "28        1\n",
      "29        1\n",
      "30        1\n",
      "31        1\n",
      "32        1\n",
      "33        1\n",
      "         ..\n",
      "183499    1\n",
      "183500    1\n",
      "183501    1\n",
      "183502    1\n",
      "183503   -1\n",
      "183504    1\n",
      "183505    1\n",
      "183506    1\n",
      "183507    1\n",
      "183508    1\n",
      "183509    1\n",
      "183510    1\n",
      "183512    1\n",
      "183513    1\n",
      "183514    1\n",
      "183515    1\n",
      "183517    1\n",
      "183518    1\n",
      "183519    1\n",
      "183520    1\n",
      "183521    1\n",
      "183522    1\n",
      "183523    1\n",
      "183524    1\n",
      "183525    1\n",
      "183526    1\n",
      "183527    1\n",
      "183528    1\n",
      "183529    1\n",
      "183530    1\n",
      "Name: sentiment, dtype: int64\n"
     ]
    }
   ],
   "source": [
    "products = products[products['rating'] != 3]\n",
    "\n",
    "products['sentiment'] = products['rating'].apply(lambda rating : +1 if rating > 3 else -1)\n",
    "print( products[ \"sentiment\" ] )"
   ]
  },
  {
   "cell_type": "markdown",
   "metadata": {},
   "source": [
    "3.A. \n",
    "\n",
    "I should construct an classifier because I want to classify positive/negative. For the first time let me try logistic regression.\n",
    "\n",
    "3.B."
   ]
  },
  {
   "cell_type": "code",
   "execution_count": 30,
   "metadata": {
    "collapsed": false
   },
   "outputs": [
    {
     "name": "stdout",
     "output_type": "stream",
     "text": [
      "                                                    name  \\\n",
      "0      Itzy Ritzy Travel Happens Sealed Wet Bag, Avoc...   \n",
      "1      Munchkin Arm &amp; Hammer Diaper Pail withRefi...   \n",
      "2                                        Kidco Y Spindle   \n",
      "3                Totally Toddler 1 Gallon Economy Refill   \n",
      "4             green sprouts Silicone Freezer Tray, Green   \n",
      "5           Nuby Nibbler Food Vegetable, Colors May Vary   \n",
      "6             Ameda Purely Yours Breast Pump - Carry All   \n",
      "7      Baby Cie La Jungle wild animals 5 piece lunch ...   \n",
      "8           Cosco Alpha Omega Elite Convertible Car Seat   \n",
      "9      Cosco Juvenile Deluxe Comfort Ride Lightweight...   \n",
      "10         Luvable Friends Fitted Knit Crib Sheet, White   \n",
      "11        Safety 1st Heavenly Dreams White Crib Mattress   \n",
      "12     Levana Jena Digital Baby Video Monitor with 8 ...   \n",
      "13                             HALLOWEEN PUMPKIN BUNTING   \n",
      "14     Besto Baby 6pcs Pack Fitted Pocket Cloth Diape...   \n",
      "15                                 Brica Phone Pod, Gray   \n",
      "16       Bumkins Dr. Seuss Receiving Blanket, Red Stripe   \n",
      "17              Personalized Baby Girl Princess Pacifier   \n",
      "18              Baby Jogger City Classic Single Stroller   \n",
      "19     Satsuma Designs Organic Wash Cloths and Wipes ...   \n",
      "20     Momo Baby 3-Pack BPA-Free Wide Neck PES Plasti...   \n",
      "21            Baby Banz Hearing Protector Earmuffs, Blue   \n",
      "22     Thirsties Duo All in One Cloth Diaper with Hoo...   \n",
      "23                     Munchkin See Baby Backseat Mirror   \n",
      "24     Munchkin 2 Pack Fresh Food Feeder, Colors May ...   \n",
      "25               Tiny Love Take-Along Arch, Sunny Stroll   \n",
      "26     Vulli Products - Sophie The Giraffe Teething R...   \n",
      "27         Safety 1st onBoard 35 Infant Car Seat, Triton   \n",
      "28        Thomas Easy Clean Potty Ring, Thomas The Train   \n",
      "29     Lifefactory 2 Pack Multi Sensory Silicone Teet...   \n",
      "...                                                  ...   \n",
      "33321    Dream On Me Traveler Lightweight Stroller, Pink   \n",
      "33322     Nature's Purest Complete Comfort Swing, Hug Me   \n",
      "33323  Munchkin 2 Pack Fresh Food Feeder, Colors May ...   \n",
      "33324                               Lamaze Playhouse Gym   \n",
      "33325                   Medela Breast Pump Accessory Set   \n",
      "33326    One Step Ahead Large Collapsible Canvas Toy Box   \n",
      "33327  Infant Optics DXR-5 2.4 GHz Digital Video Baby...   \n",
      "33328  J.L. Childress Bag 'N Bags Duffle Dispenser, B...   \n",
      "33329                  Medela Harmony Manual Breast Pump   \n",
      "33330                                         Baby Story   \n",
      "33331                Dabbawalla Lunch Bag, Cute as a Bug   \n",
      "33332  Similac infant nipples &amp; rings, Standard F...   \n",
      "33333   Fisher-Price Precious Planet Sky Blue High Chair   \n",
      "33334      Graco High Back TurboBooster Car Seat, Wander   \n",
      "33335                    The First Years Ignite Stroller   \n",
      "33336  Summer Infant Swaddleme Pure Love Adjustable I...   \n",
      "33337                   Medi-Rub Foot Massager 2000 Plus   \n",
      "33338  Baby Jogger 2011 City Mini Double Stroller, Bl...   \n",
      "33339      Chicco NextFit Convertible Car Seat, Mystique   \n",
      "33340  Baby Fanatic Security Bear Blanket, Michigan S...   \n",
      "33341        Disney Care Center Play Yard, Branchin' Out   \n",
      "33342  Jasmina 4 Piece Baby Crib Bedding Set by Cocal...   \n",
      "33343  DwellStudio for Thermos, Vacuum Insulated Stai...   \n",
      "33344         Zutano Elephants Velour Changing Pad Cover   \n",
      "33345         Nuby Splash 'n Catch Bath Time Fishing Set   \n",
      "33346     Witch Hazel Distillate (Alcohol Free) 8 Ounces   \n",
      "33347           Northstate Superyard Playgate Light Gray   \n",
      "33348   Disney My Friend Pooh Window Valance, Sage/Ivory   \n",
      "33349        Dream On Me 3&quot; Playard Mattress, White   \n",
      "33350                        PRIMO EuroBath, Pearl White   \n",
      "\n",
      "                                                  review  rating  \\\n",
      "0      Very pleased! I use it for cloth diapers on th...       5   \n",
      "1      When my first child was born I insisted I was ...       5   \n",
      "2      Using this Y spindle, 2 of them, with Kidco Ce...       5   \n",
      "3      I started using this for my boys' smelly socks...       5   \n",
      "4      These trays are perfect.  I bought these to fr...       5   \n",
      "5      This is a little net bag on a stick. We put pi...       5   \n",
      "6      I am pregnant with #3 and I just took this out...       4   \n",
      "7      This is my go to for baby shower gifts. They a...       4   \n",
      "8      Wow!  What a great car seat!  It has everythin...       5   \n",
      "9      This was a great deal for us because we got it...       5   \n",
      "10     after multiple washes this sheet is still soft...       4   \n",
      "11     This mattress is exactly as specified. It's ni...       5   \n",
      "12     Finally, a noise free monitor! My husband can ...       5   \n",
      "13     The fabric is nice quality.  The stitching is ...       5   \n",
      "14     Granddaughter loves the patterns and colors.Sh...       4   \n",
      "15     I use this phone pod/holder when I go running....       4   \n",
      "16     This was the cutest gift that I gave my newbor...       5   \n",
      "17     Purchased it for my newborn baby girl, it is o...       5   \n",
      "18     I ordered this stroller on a Tuesday and recei...       4   \n",
      "19     I use these as wash cloths in place of the sta...       5   \n",
      "20     I think these bottles are so cute with their s...       5   \n",
      "21     These headphones are super cute but for me it ...       1   \n",
      "22     i highly recommend trying a few types of diape...       5   \n",
      "23     it was really hard to find a mirror that worke...       5   \n",
      "24     We discovered that we can drop a single ice cu...       5   \n",
      "25     Gosh so much research was done on this item.I ...       5   \n",
      "26     My son is now 5 months old and has many teethi...       5   \n",
      "27     Awesome carseat.  Better than all the carseats...       5   \n",
      "28     I have used 4 different bath ring seats for th...       5   \n",
      "29     I just got this teether and I love it so far. ...       5   \n",
      "...                                                  ...     ...   \n",
      "33321  My husband and I love this stoller. It is soo ...       5   \n",
      "33322  The product is pretty but doesn't support the ...       1   \n",
      "33323  Difficult to clean. Stains and food residue wo...       2   \n",
      "33324  This was a baby shower gift and my son has lov...       4   \n",
      "33325  I don't know how prices are every where else b...       5   \n",
      "33326  It was a perfect large canvas box just as desc...       5   \n",
      "33327  I am shocked at how many good reviews there ar...       1   \n",
      "33328  Another perfect thing for the diaper bag.  Fou...       4   \n",
      "33329  I bought this with some hesitancy after readin...       5   \n",
      "33330  Baby story is basically a kit to create your o...       4   \n",
      "33331  Very durable, easy to clean and holds a ton of...       5   \n",
      "33332  Not much more to say other than these nipples ...       5   \n",
      "33333  This highchair is bright & cheerful! My daught...       4   \n",
      "33334  This is a great carseat.  It is the 3rd one I ...       5   \n",
      "33335  I bought this stroller specifically for airpla...       5   \n",
      "33336  I loved it! It helps my baby sleep better and ...       5   \n",
      "33337  Relieves tension in the muscles.Time saver  - ...       4   \n",
      "33338  I love this stroller!!!  I can not say enough ...       5   \n",
      "33339  This is without a doubt the absolute best car ...       5   \n",
      "33340  I purchased this for my soon to arrive grandso...       4   \n",
      "33341  I like the set up for this pack and play and t...       4   \n",
      "33342  Cocalo Couture has yet again filled my every e...       5   \n",
      "33343  My two kids use many products from Thermos, an...       5   \n",
      "33344  I love the colors, and I love how soft it is f...       5   \n",
      "33345  Something so simple became my son's favorite b...       5   \n",
      "33346  I have really sensitive, acne prone skin (as i...       5   \n",
      "33347  I just got this item and already i'n in love w...       5   \n",
      "33348  I've got two of these hanging in my nursery an...       5   \n",
      "33349  I am very happy with this mattress. My little ...       5   \n",
      "33350  I have to say this is the best tub I've gotten...       5   \n",
      "\n",
      "                                            review_clean  sentiment  \n",
      "0      Very pleased I use it for cloth diapers on the...          1  \n",
      "1      When my first child was born I insisted I was ...          1  \n",
      "2      Using this Y spindle 2 of them with Kidco Cent...          1  \n",
      "3      I started using this for my boys smelly socks ...          1  \n",
      "4      These trays are perfect  I bought these to fre...          1  \n",
      "5      This is a little net bag on a stick We put pie...          1  \n",
      "6      I am pregnant with 3 and I just took this out ...          1  \n",
      "7      This is my go to for baby shower gifts They ar...          1  \n",
      "8      Wow  What a great car seat  It has everything ...          1  \n",
      "9      This was a great deal for us because we got it...          1  \n",
      "10     after multiple washes this sheet is still soft...          1  \n",
      "11     This mattress is exactly as specified Its nice...          1  \n",
      "12     Finally a noise free monitor My husband can sl...          1  \n",
      "13     The fabric is nice quality  The stitching is g...          1  \n",
      "14     Granddaughter loves the patterns and colorsShe...          1  \n",
      "15     I use this phone podholder when I go running I...          1  \n",
      "16     This was the cutest gift that I gave my newbor...          1  \n",
      "17     Purchased it for my newborn baby girl it is of...          1  \n",
      "18     I ordered this stroller on a Tuesday and recei...          1  \n",
      "19     I use these as wash cloths in place of the sta...          1  \n",
      "20     I think these bottles are so cute with their s...          1  \n",
      "21     These headphones are super cute but for me it ...         -1  \n",
      "22     i highly recommend trying a few types of diape...          1  \n",
      "23     it was really hard to find a mirror that worke...          1  \n",
      "24     We discovered that we can drop a single ice cu...          1  \n",
      "25     Gosh so much research was done on this itemI a...          1  \n",
      "26     My son is now 5 months old and has many teethi...          1  \n",
      "27     Awesome carseat  Better than all the carseats ...          1  \n",
      "28     I have used 4 different bath ring seats for th...          1  \n",
      "29     I just got this teether and I love it so far I...          1  \n",
      "...                                                  ...        ...  \n",
      "33321  My husband and I love this stoller It is soo m...          1  \n",
      "33322  The product is pretty but doesnt support the c...         -1  \n",
      "33323  Difficult to clean Stains and food residue wou...         -1  \n",
      "33324  This was a baby shower gift and my son has lov...          1  \n",
      "33325  I dont know how prices are every where else bu...          1  \n",
      "33326  It was a perfect large canvas box just as desc...          1  \n",
      "33327  I am shocked at how many good reviews there ar...         -1  \n",
      "33328  Another perfect thing for the diaper bag  Foun...          1  \n",
      "33329  I bought this with some hesitancy after readin...          1  \n",
      "33330  Baby story is basically a kit to create your o...          1  \n",
      "33331  Very durable easy to clean and holds a ton of ...          1  \n",
      "33332  Not much more to say other than these nipples ...          1  \n",
      "33333  This highchair is bright  cheerful My daughter...          1  \n",
      "33334  This is a great carseat  It is the 3rd one I h...          1  \n",
      "33335  I bought this stroller specifically for airpla...          1  \n",
      "33336  I loved it It helps my baby sleep better and i...          1  \n",
      "33337  Relieves tension in the musclesTime saver   15...          1  \n",
      "33338  I love this stroller  I can not say enough goo...          1  \n",
      "33339  This is without a doubt the absolute best car ...          1  \n",
      "33340  I purchased this for my soon to arrive grandso...          1  \n",
      "33341  I like the set up for this pack and play and t...          1  \n",
      "33342  Cocalo Couture has yet again filled my every e...          1  \n",
      "33343  My two kids use many products from Thermos and...          1  \n",
      "33344  I love the colors and I love how soft it is fo...          1  \n",
      "33345  Something so simple became my sons favorite ba...          1  \n",
      "33346  I have really sensitive acne prone skin as in ...          1  \n",
      "33347  I just got this item and already in in love wi...          1  \n",
      "33348  Ive got two of these hanging in my nursery and...          1  \n",
      "33349  I am very happy with this mattress My little o...          1  \n",
      "33350  I have to say this is the best tub Ive gotten ...          1  \n",
      "\n",
      "[33351 rows x 5 columns]\n",
      "                                                     name  \\\n",
      "0       Comfort &amp; Harmony Mombo Play Toy Bar, Neutral   \n",
      "1       Philips AVENT BPA Free Formula Dispenser/Snack...   \n",
      "2       Instant Murals Wall Transfer Sticker Mural - 3...   \n",
      "3       Munchkin 2 Pack Silicone Pacifier, Colors May ...   \n",
      "4                                   Just One Year Bouncer   \n",
      "5       Disney Umbrella Stroller with Canopy, Sweet Si...   \n",
      "6                  Bumkins Waterproof Superbib, Blue Fizz   \n",
      "7            Arm's Reach Co-Sleeper Mini Bassinet, Toffee   \n",
      "8           Sassy Baby Disposable Diaper Sacks, 200-Count   \n",
      "9            Munchkin Two Snack Catchers, Colors May Vary   \n",
      "10      Mountain Buggy Duet Double Buggy Stroller, Bla...   \n",
      "11      Pacifier - Wubbanub Infant Plush Pacifier - Tu...   \n",
      "12               Trumpette Howdy Bouncy Rubber Cow, White   \n",
      "13      Gymnic / Rockin' Rody Inflatable Horse with Ro...   \n",
      "14           Sunshine Kids Stroller Accessory Buggy Buddy   \n",
      "15      Sassy Baby's First Rattle and Teether 5 Piece ...   \n",
      "16                     Hooter Hiders Nursing Cover - Aero   \n",
      "17      Munchkin XTRAGUARD 2 Count Dual Action Multi U...   \n",
      "18           Maxi-Cosi Priori Convertible Car Seat, Gipsy   \n",
      "19      JJ Cole Paisley Feeding and Nursing Pillow, As...   \n",
      "20      green sprouts 10 Pack Waterproof Absorbent Ter...   \n",
      "21      The First Years Breastflow Mipump Single Elect...   \n",
      "22      The First Year's Infant To Toddler Tub with Sl...   \n",
      "23        Fisher-Price Space Saver High Chair, Scatterbug   \n",
      "24                  Dreambaby Clip On Stroller Fan, White   \n",
      "25      American Baby Company 100% Organic Cotton Inte...   \n",
      "26      Press &amp; Play Jukebox ** 6 Months * Plays M...   \n",
      "27                        The First Years Ignite Stroller   \n",
      "28                           Graco imonitor Vibe 2 Parent   \n",
      "29                Dreambaby Children at Play Sign, Orange   \n",
      "...                                                   ...   \n",
      "133371  Baby Jogger 2011 City Mini Single Stroller, Bl...   \n",
      "133372  Gerber Graduates BPA Free 2 Pack Fun Grips spi...   \n",
      "133373         KidCo BabySteps Electric Food Mill - White   \n",
      "133374  Carter's Baby Girls One Piece Cotton Knit &quo...   \n",
      "133375            BOB Revolution SE Single Stroller, Navy   \n",
      "133376  Summer Infant Keep Me Clean Disposable Diaper ...   \n",
      "133377                       Evenflo Portable Ultrasaucer   \n",
      "133378  Cloud B Twinkles To Go Octo Nightlight, Blue O...   \n",
      "133379  Cloud b Sleep Sheep On The Go Travel Sound Mac...   \n",
      "133380       Sunshine Kids Stroller Accessory Buggy Buddy   \n",
      "133381  Philips AVENT BPA Free Formula Dispenser/Snack...   \n",
      "133382    JL Childress Wheelie Car Seat Travel Bag, Black   \n",
      "133383  Munchkin Powdered Formula Dispenser Combo Pack...   \n",
      "133384  Philips Avent DECT Baby Monitor with Temperatu...   \n",
      "133385         Carter's 4 Piece Toddler Bed Set, Lady Bug   \n",
      "133386                                WubbaNub Green Frog   \n",
      "133387  Snappi Cloth Diaper Fasteners - Pack of 3 (Min...   \n",
      "133388      Dream On Me / Mia Moda Playgio Play Yard, Red   \n",
      "133389  Quilted Cotton Peace Sign Messenger Style Diap...   \n",
      "133390                           Good Night - Bear Mobile   \n",
      "133391                 Baby Teether Ball, Assorted Colors   \n",
      "133392  Philips AVENT BPA Free Classic Polypropylene E...   \n",
      "133393        Gerber First Essential 6 Pack Latex Nipples   \n",
      "133394        Ulubulu Universal Pacifier Clip, Oliver Owl   \n",
      "133395              Skip Hop Bento Diaper Tote Bag, Black   \n",
      "133396                                                NaN   \n",
      "133397                                U-Shaped Pillowcase   \n",
      "133398                     Sassy Soft Sided Toy Organizer   \n",
      "133399  timi &amp; leslie Marie Antoinette 7-Piece Dia...   \n",
      "133400                Ikea Duktig 8-piece Fish/Salmon Set   \n",
      "\n",
      "                                                   review  rating  \\\n",
      "0       This is an awesome addition to the mombo. My s...       4   \n",
      "1       This works perfectly for dispensing formula on...       5   \n",
      "2       At 1ts I was like $50 for stickers for the wal...       5   \n",
      "3       I ordered these because I wanted colorful paci...       2   \n",
      "4       My baby really likes this. It's really soft, a...       5   \n",
      "5       We ordered this for our two year old before ou...       4   \n",
      "6       I use these bibs because you only need like 2-...       5   \n",
      "7       My wife and I have tried numerous bassinets fo...       5   \n",
      "8       Diaper pails are the worst. They stink up the ...       5   \n",
      "9       I love these cups.  I have purchased some very...       4   \n",
      "10      We've had our Mountain Buggy Duo for three yea...       5   \n",
      "11      Our daughter is obsessed with her wubba. In fa...       5   \n",
      "12      We have had Trumpette Howdy Cow for over two y...       5   \n",
      "13      Beautiful toy. Bought two sets for a 41/2 year...       5   \n",
      "14      Very useful product. I am elderly and sit on m...       5   \n",
      "15      This is a nice assortment of toys for baby, bu...       4   \n",
      "16      This is great for my wife, she uses it all the...       5   \n",
      "17      It is very strong. I used it everywhere in my ...       4   \n",
      "18      Love the seat, Its got good reviews for safety...       5   \n",
      "19      The pattern, colors, and feel were excellent q...       4   \n",
      "20      These bibs are not very absorbent.  I have a B...       2   \n",
      "21      The pump got damaged after less than 2 months,...       2   \n",
      "22      This tub was a great purchase!! I wanted a sim...       5   \n",
      "23      I am a third time mother.  When my older two b...       5   \n",
      "24      Great little fan! Blows plenty of air. I use i...       5   \n",
      "25      We got the Dream on Me playard mattress with t...       5   \n",
      "26      It really is a cute toy; press one of the thre...       4   \n",
      "27      Great stroller. My hubby nd I were looking for...       5   \n",
      "28      After doing my research and reading reviews on...       2   \n",
      "29      These are easily visible from blocks away. We ...       5   \n",
      "...                                                   ...     ...   \n",
      "133371  LOVE LOVE LOVE MY STROLLER! I did my research ...       5   \n",
      "133372  I love these sippy cups. My son absolutely lov...       5   \n",
      "133373  I'm really happy with this product and use it ...       5   \n",
      "133374  Comfortable for a 12 month baby that is active...       5   \n",
      "133375  I will never purchasing another brand of strol...       5   \n",
      "133376  We love these for stinky diapers so we don't h...       5   \n",
      "133377  This is a lifesaver!!!! My 5 month old loves t...       5   \n",
      "133378  Works great! Just as described. Projector work...       5   \n",
      "133379  This sheep should be owned by everyone with a ...       5   \n",
      "133380  Did exactly what it's supposed to do. Have me ...       5   \n",
      "133381  I have 2 of these and use them when we travel ...       4   \n",
      "133382  We were able to use this for the first time la...       5   \n",
      "133383  Nice product, but it not for microwave use, no...       4   \n",
      "133384  I ordered this monitor for my daughter and son...       4   \n",
      "133385  I bought this for my daughter to help the tran...       5   \n",
      "133386  I completely love this. I get comments whereve...       5   \n",
      "133387  We love using these with our cloth diapers.  S...       5   \n",
      "133388  This is a great pack n play and I have Graco o...       5   \n",
      "133389  I ordered this as a Christmas gift for my daug...       5   \n",
      "133390  We had received several mobiles as gifts but m...       5   \n",
      "133391  My 4 month old daughter loves this teether! It...       5   \n",
      "133392  purchased these items for a sweet, dear friend...       5   \n",
      "133393  In the past I have ordered this brand and type...       1   \n",
      "133394  These are very handy if your baby is moving ar...       5   \n",
      "133395  I'm a guy.  My wife was tired of me messing up...       5   \n",
      "133396  We bought two of these gates for our 9 month o...       5   \n",
      "133397  How does this cover suppose to work on the bol...       1   \n",
      "133398  This item is great for little ones and moms.  ...       4   \n",
      "133399  The bag was exactly the item the soon-to-be mo...       5   \n",
      "133400  This is a great toy. Love that ikea &#34;food&...       5   \n",
      "\n",
      "                                             review_clean  sentiment  \n",
      "0       This is an awesome addition to the mombo My so...          1  \n",
      "1       This works perfectly for dispensing formula on...          1  \n",
      "2       At 1ts I was like 50 for stickers for the wall...          1  \n",
      "3       I ordered these because I wanted colorful paci...         -1  \n",
      "4       My baby really likes this Its really soft and ...          1  \n",
      "5       We ordered this for our two year old before ou...          1  \n",
      "6       I use these bibs because you only need like 23...          1  \n",
      "7       My wife and I have tried numerous bassinets fo...          1  \n",
      "8       Diaper pails are the worst They stink up the r...          1  \n",
      "9       I love these cups  I have purchased some very ...          1  \n",
      "10      Weve had our Mountain Buggy Duo for three year...          1  \n",
      "11      Our daughter is obsessed with her wubba In fac...          1  \n",
      "12      We have had Trumpette Howdy Cow for over two y...          1  \n",
      "13      Beautiful toy Bought two sets for a 412 year o...          1  \n",
      "14      Very useful product I am elderly and sit on my...          1  \n",
      "15      This is a nice assortment of toys for baby but...          1  \n",
      "16      This is great for my wife she uses it all the ...          1  \n",
      "17      It is very strong I used it everywhere in my h...          1  \n",
      "18      Love the seat Its got good reviews for safety ...          1  \n",
      "19      The pattern colors and feel were excellent qua...          1  \n",
      "20      These bibs are not very absorbent  I have a BI...         -1  \n",
      "21      The pump got damaged after less than 2 months ...         -1  \n",
      "22      This tub was a great purchase I wanted a simpl...          1  \n",
      "23      I am a third time mother  When my older two bo...          1  \n",
      "24      Great little fan Blows plenty of air I use it ...          1  \n",
      "25      We got the Dream on Me playard mattress with t...          1  \n",
      "26      It really is a cute toy press one of the three...          1  \n",
      "27      Great stroller My hubby nd I were looking for ...          1  \n",
      "28      After doing my research and reading reviews on...         -1  \n",
      "29      These are easily visible from blocks away We k...          1  \n",
      "...                                                   ...        ...  \n",
      "133371  LOVE LOVE LOVE MY STROLLER I did my research b...          1  \n",
      "133372  I love these sippy cups My son absolutely love...          1  \n",
      "133373  Im really happy with this product and use it e...          1  \n",
      "133374  Comfortable for a 12 month baby that is active...          1  \n",
      "133375  I will never purchasing another brand of strol...          1  \n",
      "133376  We love these for stinky diapers so we dont ha...          1  \n",
      "133377  This is a lifesaver My 5 month old loves this ...          1  \n",
      "133378  Works great Just as described Projector works ...          1  \n",
      "133379  This sheep should be owned by everyone with a ...          1  \n",
      "133380  Did exactly what its supposed to do Have me a ...          1  \n",
      "133381  I have 2 of these and use them when we travel ...          1  \n",
      "133382  We were able to use this for the first time la...          1  \n",
      "133383  Nice product but it not for microwave use not ...          1  \n",
      "133384  I ordered this monitor for my daughter and son...          1  \n",
      "133385  I bought this for my daughter to help the tran...          1  \n",
      "133386  I completely love this I get comments wherever...          1  \n",
      "133387  We love using these with our cloth diapers  So...          1  \n",
      "133388  This is a great pack n play and I have Graco o...          1  \n",
      "133389  I ordered this as a Christmas gift for my daug...          1  \n",
      "133390  We had received several mobiles as gifts but m...          1  \n",
      "133391  My 4 month old daughter loves this teether Its...          1  \n",
      "133392  purchased these items for a sweet dear friend ...          1  \n",
      "133393  In the past I have ordered this brand and type...         -1  \n",
      "133394  These are very handy if your baby is moving ar...          1  \n",
      "133395  Im a guy  My wife was tired of me messing up h...          1  \n",
      "133396  We bought two of these gates for our 9 month o...          1  \n",
      "133397  How does this cover suppose to work on the bol...         -1  \n",
      "133398  This item is great for little ones and moms  T...          1  \n",
      "133399  The bag was exactly the item the soontobe mom ...          1  \n",
      "133400  This is a great toy Love that ikea 34food34 ha...          1  \n",
      "\n",
      "[133401 rows x 5 columns]\n"
     ]
    }
   ],
   "source": [
    "train_data, test_data = train_test_split( products, test_size = 0.2)\n",
    "\n",
    "test_data.reset_index(drop=True, inplace = True)\n",
    "train_data.reset_index(drop=True, inplace = True)\n",
    "\n",
    "print( test_data )\n",
    "print( train_data )"
   ]
  },
  {
   "cell_type": "markdown",
   "metadata": {},
   "source": [
    "3.C."
   ]
  },
  {
   "cell_type": "code",
   "execution_count": 31,
   "metadata": {
    "collapsed": false
   },
   "outputs": [
    {
     "name": "stdout",
     "output_type": "stream",
     "text": [
      "  (0, 107352)\t2\n",
      "  (0, 57142)\t2\n",
      "  (0, 10420)\t1\n",
      "  (0, 13257)\t1\n",
      "  (0, 8189)\t1\n",
      "  (0, 108808)\t4\n",
      "  (0, 106106)\t9\n",
      "  (0, 67784)\t1\n",
      "  (0, 69703)\t2\n",
      "  (0, 98303)\t2\n",
      "  (0, 21821)\t1\n",
      "  (0, 95876)\t1\n",
      "  (0, 10476)\t3\n",
      "  (0, 80445)\t2\n",
      "  (0, 119339)\t1\n",
      "  (0, 57421)\t1\n",
      "  (0, 59182)\t1\n",
      "  (0, 52451)\t1\n",
      "  (0, 73270)\t1\n",
      "  (0, 44622)\t2\n",
      "  (0, 53531)\t1\n",
      "  (0, 74678)\t1\n",
      "  (0, 107158)\t1\n",
      "  (0, 54257)\t1\n",
      "  (0, 87233)\t1\n",
      "  :\t:\n",
      "  (133399, 40283)\t1\n",
      "  (133399, 63062)\t1\n",
      "  (133399, 61791)\t1\n",
      "  (133399, 57621)\t1\n",
      "  (133399, 52930)\t1\n",
      "  (133399, 98486)\t1\n",
      "  (133399, 118914)\t1\n",
      "  (133400, 107352)\t2\n",
      "  (133400, 57142)\t1\n",
      "  (133400, 69703)\t1\n",
      "  (133400, 105956)\t1\n",
      "  (133400, 7275)\t1\n",
      "  (133400, 62510)\t1\n",
      "  (133400, 73418)\t1\n",
      "  (133400, 50903)\t1\n",
      "  (133400, 48790)\t2\n",
      "  (133400, 63365)\t1\n",
      "  (133400, 63457)\t1\n",
      "  (133400, 75208)\t1\n",
      "  (133400, 110100)\t1\n",
      "  (133400, 63536)\t1\n",
      "  (133400, 49703)\t1\n",
      "  (133400, 54504)\t1\n",
      "  (133400, 51390)\t1\n",
      "  (133400, 3398)\t1\n",
      "  (0, 10476)\t1\n",
      "  (0, 25731)\t1\n",
      "  (0, 32499)\t1\n",
      "  (0, 33618)\t1\n",
      "  (0, 39559)\t1\n",
      "  (0, 44622)\t1\n",
      "  (0, 47725)\t1\n",
      "  (0, 54257)\t1\n",
      "  (0, 57421)\t1\n",
      "  (0, 71057)\t1\n",
      "  (0, 71601)\t1\n",
      "  (0, 73393)\t1\n",
      "  (0, 74170)\t1\n",
      "  (0, 78697)\t1\n",
      "  (0, 80692)\t1\n",
      "  (0, 85313)\t1\n",
      "  (0, 87233)\t1\n",
      "  (0, 96009)\t1\n",
      "  (0, 106106)\t1\n",
      "  (0, 114167)\t1\n",
      "  (0, 115358)\t1\n",
      "  (0, 120239)\t1\n",
      "  (1, 115)\t2\n",
      "  (1, 1565)\t2\n",
      "  (1, 4045)\t1\n",
      "  :\t:\n",
      "  (33350, 85171)\t2\n",
      "  (33350, 85829)\t1\n",
      "  (33350, 86643)\t1\n",
      "  (33350, 91031)\t1\n",
      "  (33350, 91228)\t1\n",
      "  (33350, 91683)\t1\n",
      "  (33350, 94244)\t3\n",
      "  (33350, 94429)\t1\n",
      "  (33350, 95125)\t1\n",
      "  (33350, 97677)\t1\n",
      "  (33350, 99976)\t1\n",
      "  (33350, 100452)\t1\n",
      "  (33350, 100741)\t1\n",
      "  (33350, 101125)\t1\n",
      "  (33350, 101548)\t1\n",
      "  (33350, 106106)\t3\n",
      "  (33350, 107352)\t3\n",
      "  (33350, 108808)\t2\n",
      "  (33350, 111262)\t1\n",
      "  (33350, 111328)\t1\n",
      "  (33350, 111503)\t2\n",
      "  (33350, 113544)\t1\n",
      "  (33350, 115358)\t1\n",
      "  (33350, 116694)\t1\n",
      "  (33350, 117066)\t2\n"
     ]
    }
   ],
   "source": [
    "from sklearn.feature_extraction.text import CountVectorizer\n",
    "\n",
    "vectorizer = CountVectorizer(token_pattern=r'\\b\\w+\\b') #The simplest pattern\n",
    "train_matrix = vectorizer.fit_transform(train_data['review_clean'])\n",
    "test_matrix = vectorizer.transform(test_data['review_clean'])\n",
    "\n",
    "print( train_matrix )\n",
    "print( test_matrix )\n"
   ]
  },
  {
   "cell_type": "markdown",
   "metadata": {},
   "source": [
    "3.D."
   ]
  },
  {
   "cell_type": "code",
   "execution_count": 32,
   "metadata": {
    "collapsed": false
   },
   "outputs": [
    {
     "data": {
      "text/plain": [
       "LogisticRegression(C=1.0, class_weight=None, dual=False, fit_intercept=True,\n",
       "          intercept_scaling=1, max_iter=100, multi_class='ovr', n_jobs=1,\n",
       "          penalty='l2', random_state=None, solver='liblinear', tol=0.0001,\n",
       "          verbose=0, warm_start=False)"
      ]
     },
     "execution_count": 32,
     "metadata": {},
     "output_type": "execute_result"
    }
   ],
   "source": [
    "from sklearn import linear_model\n",
    "\n",
    "sentiment_model = linear_model.LogisticRegression()\n",
    "\n",
    "sentiment_model.fit( train_matrix, train_data[ 'sentiment' ] )"
   ]
  },
  {
   "cell_type": "code",
   "execution_count": 33,
   "metadata": {
    "collapsed": false
   },
   "outputs": [
    {
     "name": "stdout",
     "output_type": "stream",
     "text": [
      "[[ -8.20584077e-01   3.76088601e-04   5.03371140e-02 ...,   1.41330055e-02\n",
      "    1.09980584e-02  -7.37882902e-05]]\n",
      "121598\n"
     ]
    }
   ],
   "source": [
    "print( sentiment_model.coef_ )\n",
    "print( len( sentiment_model.coef_[ 0 ] ) )"
   ]
  },
  {
   "cell_type": "markdown",
   "metadata": {},
   "source": [
    "4.A."
   ]
  },
  {
   "cell_type": "code",
   "execution_count": 34,
   "metadata": {
    "collapsed": false
   },
   "outputs": [
    {
     "name": "stdout",
     "output_type": "stream",
     "text": [
      "85855\n"
     ]
    }
   ],
   "source": [
    "number_positive_coefficients = 0\n",
    "for coefficient in sentiment_model.coef_[ 0 ]:\n",
    "    if coefficient >= 0:\n",
    "        number_positive_coefficients += 1\n",
    "        \n",
    "print( number_positive_coefficients )"
   ]
  },
  {
   "cell_type": "markdown",
   "metadata": {},
   "source": [
    "## **Conclusion:**\n",
    "    Most of the reviews are positive.\n",
    "    \n",
    "4.B."
   ]
  },
  {
   "cell_type": "code",
   "execution_count": 35,
   "metadata": {
    "collapsed": false
   },
   "outputs": [
    {
     "name": "stdout",
     "output_type": "stream",
     "text": [
      "                                                 name  \\\n",
      "10      Luvable Friends Fitted Knit Crib Sheet, White   \n",
      "11     Safety 1st Heavenly Dreams White Crib Mattress   \n",
      "12  Levana Jena Digital Baby Video Monitor with 8 ...   \n",
      "\n",
      "                                               review  rating  \\\n",
      "10  after multiple washes this sheet is still soft...       4   \n",
      "11  This mattress is exactly as specified. It's ni...       5   \n",
      "12  Finally, a noise free monitor! My husband can ...       5   \n",
      "\n",
      "                                         review_clean  sentiment  \n",
      "10  after multiple washes this sheet is still soft...          1  \n",
      "11  This mattress is exactly as specified Its nice...          1  \n",
      "12  Finally a noise free monitor My husband can sl...          1  \n"
     ]
    }
   ],
   "source": [
    "sample_test_data = test_data[10:13]\n",
    "print( sample_test_data )"
   ]
  },
  {
   "cell_type": "code",
   "execution_count": 42,
   "metadata": {
    "collapsed": false
   },
   "outputs": [
    {
     "name": "stdout",
     "output_type": "stream",
     "text": [
      "after multiple washes this sheet is still soft! only thing I don't like is the material seems a bit thin but other than for the price it is a great sheet.\n"
     ]
    }
   ],
   "source": [
    "print( sample_test_data['review'][10] )"
   ]
  },
  {
   "cell_type": "code",
   "execution_count": 39,
   "metadata": {
    "collapsed": false
   },
   "outputs": [
    {
     "name": "stdout",
     "output_type": "stream",
     "text": [
      "This mattress is exactly as specified. It's nice and firm and fits perfectly snug in the crib. It also arrived in good packaging without any damage. I couldn't be more pleased! Especially for the price!\n"
     ]
    }
   ],
   "source": [
    "print( sample_test_data['review'][11] )"
   ]
  },
  {
   "cell_type": "code",
   "execution_count": 41,
   "metadata": {
    "collapsed": false
   },
   "outputs": [
    {
     "name": "stdout",
     "output_type": "stream",
     "text": [
      "Finally, a noise free monitor! My husband can sleep now, for there is no interference noise.Cons: haven't figured out how to keep the video turned on when in battery madeThe screen sometimes darkens sporadically on the upper area\n"
     ]
    }
   ],
   "source": [
    "print( sample_test_data['review'][12] )"
   ]
  },
  {
   "cell_type": "code",
   "execution_count": 40,
   "metadata": {
    "collapsed": false
   },
   "outputs": [
    {
     "name": "stdout",
     "output_type": "stream",
     "text": [
      "[  4.04310379  10.27900865   2.10277151]\n"
     ]
    }
   ],
   "source": [
    "sample_test_matrix = vectorizer.transform(sample_test_data['review_clean'])\n",
    "scores = sentiment_model.decision_function(sample_test_matrix)\n",
    "print( scores )"
   ]
  },
  {
   "cell_type": "markdown",
   "metadata": {},
   "source": [
    "## Note:\n",
    "    Based on analysis of the sample_test_data the model works! Review 11 is the most positive and has the highest score."
   ]
  },
  {
   "cell_type": "code",
   "execution_count": 43,
   "metadata": {
    "collapsed": false
   },
   "outputs": [
    {
     "name": "stdout",
     "output_type": "stream",
     "text": [
      "[1 1 1]\n"
     ]
    }
   ],
   "source": [
    "print( sentiment_model.predict( sample_test_matrix ) )"
   ]
  },
  {
   "cell_type": "code",
   "execution_count": 45,
   "metadata": {
    "collapsed": false
   },
   "outputs": [
    {
     "name": "stdout",
     "output_type": "stream",
     "text": [
      "10    1\n",
      "11    1\n",
      "12    1\n",
      "Name: sentiment, dtype: int64\n"
     ]
    }
   ],
   "source": [
    "print( sample_test_data[ 'sentiment' ] )"
   ]
  },
  {
   "cell_type": "markdown",
   "metadata": {},
   "source": [
    "## Conclusions:\n",
    "    The results above shows that the model got 100% accuracy on sample_test_data."
   ]
  },
  {
   "cell_type": "code",
   "execution_count": null,
   "metadata": {
    "collapsed": true
   },
   "outputs": [],
   "source": []
  }
 ],
 "metadata": {
  "kernelspec": {
   "display_name": "Python 3",
   "language": "python",
   "name": "python3"
  },
  "language_info": {
   "codemirror_mode": {
    "name": "ipython",
    "version": 3
   },
   "file_extension": ".py",
   "mimetype": "text/x-python",
   "name": "python",
   "nbconvert_exporter": "python",
   "pygments_lexer": "ipython3",
   "version": "3.5.1"
  }
 },
 "nbformat": 4,
 "nbformat_minor": 0
}
