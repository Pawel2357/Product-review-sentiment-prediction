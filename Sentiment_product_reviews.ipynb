{
 "cells": [
  {
   "cell_type": "markdown",
   "metadata": {},
   "source": [
    "[Project description](https://www.coursera.org/learn/ml-classification/supplement/NtMAS/predicting-sentiment-from-product-reviews)"
   ]
  },
  {
   "cell_type": "markdown",
   "metadata": {},
   "source": [
    "# Plan\n",
    "    1. Understand the challange. What questions do I want to answer?\n",
    "    2. Prepare the data and conduct descriptive analysis.\n",
    "        A. Load the data\n",
    "        B. Remove punctuation\n",
    "        C. Remove n/a fields in the reviews\n",
    "        D. Exptract sentiments. Ignore neutral reviews with rating 3.\n",
    "        E. Create a new column that assign positive or negative value for each of the review.\n",
    "    3. Choose and create a model. Train the model.\n",
    "        A. Choose the right model.\n",
    "        B. Split the dataset into training and test.\n",
    "        C. Create vectors(train, test) using words in the reviews. Use common bug-of-words representation. Choose words from train dataset.\n",
    "        D. Trein logistic regression model.\n",
    "    4. Test the model. Interpret the results.\n",
    "        A. Count all positive weights in the model.\n",
    "        B. Test the model with simple test data.\n",
    "        C. Calculate probabilities for sample test data.\n",
    "        D. Estimate an accuracy of the model.\n",
    "    5. Answer the questions."
   ]
  },
  {
   "cell_type": "markdown",
   "metadata": {},
   "source": [
    "1. The purpose of the project is to predict a sentiment of a product review. The model should predict does a review is positive or negative?"
   ]
  },
  {
   "cell_type": "markdown",
   "metadata": {},
   "source": [
    "2.A. Load the data."
   ]
  },
  {
   "cell_type": "code",
   "execution_count": 1,
   "metadata": {
    "collapsed": true
   },
   "outputs": [],
   "source": [
    "import pandas as pd\n",
    "import string as st\n",
    "import numpy as np\n",
    "from sklearn.cross_validation import train_test_split"
   ]
  },
  {
   "cell_type": "code",
   "execution_count": 2,
   "metadata": {
    "collapsed": false
   },
   "outputs": [
    {
     "name": "stdout",
     "output_type": "stream",
     "text": [
      "                                                     name  \\\n",
      "0                                Planetwise Flannel Wipes   \n",
      "1                                   Planetwise Wipe Pouch   \n",
      "2                     Annas Dream Full Quilt with 2 Shams   \n",
      "3       Stop Pacifier Sucking without tears with Thumb...   \n",
      "4       Stop Pacifier Sucking without tears with Thumb...   \n",
      "5       Stop Pacifier Sucking without tears with Thumb...   \n",
      "6                 A Tale of Baby's Days with Peter Rabbit   \n",
      "7       Baby Tracker&reg; - Daily Childcare Journal, S...   \n",
      "8       Baby Tracker&reg; - Daily Childcare Journal, S...   \n",
      "9       Baby Tracker&reg; - Daily Childcare Journal, S...   \n",
      "10      Baby Tracker&reg; - Daily Childcare Journal, S...   \n",
      "11      Baby Tracker&reg; - Daily Childcare Journal, S...   \n",
      "12      Baby Tracker&reg; - Daily Childcare Journal, S...   \n",
      "13      Baby Tracker&reg; - Daily Childcare Journal, S...   \n",
      "14         Nature's Lullabies First Year Sticker Calendar   \n",
      "15         Nature's Lullabies First Year Sticker Calendar   \n",
      "16         Nature's Lullabies First Year Sticker Calendar   \n",
      "17        Nature's Lullabies Second Year Sticker Calendar   \n",
      "18        Nature's Lullabies Second Year Sticker Calendar   \n",
      "19        Nature's Lullabies Second Year Sticker Calendar   \n",
      "20        Nature's Lullabies Second Year Sticker Calendar   \n",
      "21        Nature's Lullabies Second Year Sticker Calendar   \n",
      "22        Nature's Lullabies Second Year Sticker Calendar   \n",
      "23        Nature's Lullabies Second Year Sticker Calendar   \n",
      "24        Nature's Lullabies Second Year Sticker Calendar   \n",
      "25        Nature's Lullabies Second Year Sticker Calendar   \n",
      "26                           Baby's First Journal - Green   \n",
      "27                            Lamaze Peekaboo, I Love You   \n",
      "28                            Lamaze Peekaboo, I Love You   \n",
      "29                            Lamaze Peekaboo, I Love You   \n",
      "...                                                   ...   \n",
      "183501  Maxboost iPhone 5S/5 Case - Protective Snap-on...   \n",
      "183502  Maxboost iPhone 5S/5 Case - Protective Snap-on...   \n",
      "183503  Maxboost iPhone 5S/5 Case - Protective Snap-on...   \n",
      "183504  Maxboost iPhone 5S/5 Case - Protective Snap-on...   \n",
      "183505  Maxboost iPhone 5S/5 Case - Protective Snap-on...   \n",
      "183506  Maxboost iPhone 5S/5 Case - Protective Snap-on...   \n",
      "183507  Maxboost iPhone 5S/5 Case - Protective Snap-on...   \n",
      "183508  Maxboost iPhone 5S/5 Case - Protective Snap-on...   \n",
      "183509  Maxboost iPhone 5S/5 Case - Protective Snap-on...   \n",
      "183510  Maxboost iPhone 5S/5 Case - Protective Snap-on...   \n",
      "183511  Maxboost iPhone 5S/5 Case - Protective Snap-on...   \n",
      "183512  Maxboost iPhone 5S/5 Case - Protective Snap-on...   \n",
      "183513  Maxboost iPhone 5S/5 Case - Protective Snap-on...   \n",
      "183514  Maxboost iPhone 5S/5 Case - Protective Snap-on...   \n",
      "183515  Maxboost iPhone 5S/5 Case - Protective Snap-on...   \n",
      "183516  BoogieBulb&reg; - The First True Cleanable &am...   \n",
      "183517  Baby Mucus Extractor, Nasal Aspirator From Dr....   \n",
      "183518  Baby Mucus Extractor, Nasal Aspirator From Dr....   \n",
      "183519  Baby Mucus Extractor, Nasal Aspirator From Dr....   \n",
      "183520  Baby Mucus Extractor, Nasal Aspirator From Dr....   \n",
      "183521  Airline Seat Belt Extender - The Best Extensio...   \n",
      "183522  Airline Seat Belt Extender - The Best Extensio...   \n",
      "183523  Squeasy Snacker 6oz Silicone Reusable Food Pou...   \n",
      "183524  Squeasy Snacker 6oz Silicone Reusable Food Pou...   \n",
      "183525  Squeasy Snacker 6oz Silicone Reusable Food Pou...   \n",
      "183526  Baby Teething Necklace for Mom Pretty Donut Sh...   \n",
      "183527  Baby Teething Necklace for Mom Pretty Donut Sh...   \n",
      "183528   Abstract 2 PK Baby / Toddler Training Cup (Pink)   \n",
      "183529  Baby Food Freezer Tray - Bacteria Resistant, B...   \n",
      "183530  Best 2 Pack Baby Car Shade for Kids - Window S...   \n",
      "\n",
      "                                                   review  rating  \n",
      "0       These flannel wipes are OK, but in my opinion ...       3  \n",
      "1       it came early and was not disappointed. i love...       5  \n",
      "2       Very soft and comfortable and warmer than it l...       5  \n",
      "3       This is a product well worth the purchase.  I ...       5  \n",
      "4       All of my kids have cried non-stop when I trie...       5  \n",
      "5       When the Binky Fairy came to our house, we did...       5  \n",
      "6       Lovely book, it's bound tightly so you may not...       4  \n",
      "7       Perfect for new parents. We were able to keep ...       5  \n",
      "8       A friend of mine pinned this product on Pinter...       5  \n",
      "9       This has been an easy way for my nanny to reco...       4  \n",
      "10      I love this journal and our nanny uses it ever...       4  \n",
      "11      This book is perfect!  I'm a first time new mo...       5  \n",
      "12      I originally just gave the nanny a pad of pape...       4  \n",
      "13      I thought keeping a simple handwritten journal...       3  \n",
      "14      Space for monthly photos, info and a lot of us...       5  \n",
      "15      I bought this calender for myself for my secon...       4  \n",
      "16      I love this little calender, you can keep trac...       5  \n",
      "17      This was the only calender I could find for th...       5  \n",
      "18      I completed a calendar for my son's first year...       4  \n",
      "19      We wanted to get something to keep track of ou...       5  \n",
      "20      I had a hard time finding a second year calend...       5  \n",
      "21      I only purchased a second-year calendar for my...       2  \n",
      "22      I LOVE this calendar for recording events of m...       5  \n",
      "23      Calendar is exactly as described, but I find t...       3  \n",
      "24      Wife loves this calender. Comes with a lot of ...       5  \n",
      "25      My daughter had her 1st baby over a year ago. ...       5  \n",
      "26      Extremely useful! As a new mom, tired and inex...       5  \n",
      "27      My son loves peek a boo at this age of 9 month...       3  \n",
      "28      One of baby's first and favorite books, and it...       4  \n",
      "29      I like how the book has a hook to attach it to...       5  \n",
      "...                                                   ...     ...  \n",
      "183501  I received a free sample from VIPU program for...       5  \n",
      "183502  It got here incredibly fast & it is a nice dur...       5  \n",
      "183503  I got this case in the mail today, it came on ...       2  \n",
      "183504  Free caseLove it... The color was great firm h...       5  \n",
      "183505  I received a free sample from VIPU program for...       5  \n",
      "183506  This case definitely isn't cheap. It feels ver...       5  \n",
      "183507  got this for my wife and she loves it would de...       5  \n",
      "183508  love this case. It fit perfectly and the color...       5  \n",
      "183509  this case is the greatest very cool and stylis...       5  \n",
      "183510              Great fit. Really love how red it is.       5  \n",
      "183511  I received a free sample from VIPU program for...       3  \n",
      "183512  *I received a free sample from VIPU program fo...       5  \n",
      "183513  I was a very surprised by the quality of this ...       5  \n",
      "183514  I received a free sample from VIPU program for...       4  \n",
      "183515  I love this phone case!  My  iPhone is always ...       5  \n",
      "183516  I've ordered a ton of &#34;suckers&#34; to try...       3  \n",
      "183517  I recieved this product free of charge and abs...       5  \n",
      "183518  The tube is soft and easy to use, and the tip ...       5  \n",
      "183519  I love this so much. It works way better than ...       5  \n",
      "183520  The aspirator works well but needs to come wit...       4  \n",
      "183521  Up until recently I have hated flying, putting...       5  \n",
      "183522  I bought this as a father's day gift for my da...       5  \n",
      "183523  I love that these can hold purees OR liquids, ...       5  \n",
      "183524  I love this product, it makes my life easier. ...       5  \n",
      "183525  This reusable squeeze bottle is the best I hav...       5  \n",
      "183526  Such a great idea! very handy to have and look...       5  \n",
      "183527  This product rocks!  It is a great blend of fu...       5  \n",
      "183528  This item looks great and cool for my kids.......       5  \n",
      "183529  I am extremely happy with this product. I have...       5  \n",
      "183530  I love this product very mush . I have bought ...       5  \n",
      "\n",
      "[183531 rows x 3 columns]\n"
     ]
    }
   ],
   "source": [
    "products = pd.read_csv( \"./amazon_baby.csv\" )\n",
    "print( products )"
   ]
  },
  {
   "cell_type": "markdown",
   "metadata": {},
   "source": [
    "2.B. Remove punctuation from the reviews."
   ]
  },
  {
   "cell_type": "code",
   "execution_count": 3,
   "metadata": {
    "collapsed": false
   },
   "outputs": [
    {
     "name": "stdout",
     "output_type": "stream",
     "text": [
      "0         These flannel wipes are OK but in my opinion n...\n",
      "1         it came early and was not disappointed i love ...\n",
      "2         Very soft and comfortable and warmer than it l...\n",
      "3         This is a product well worth the purchase  I h...\n",
      "4         All of my kids have cried nonstop when I tried...\n",
      "5         When the Binky Fairy came to our house we didn...\n",
      "6         Lovely book its bound tightly so you may not b...\n",
      "7         Perfect for new parents We were able to keep t...\n",
      "8         A friend of mine pinned this product on Pinter...\n",
      "9         This has been an easy way for my nanny to reco...\n",
      "10        I love this journal and our nanny uses it ever...\n",
      "11        This book is perfect  Im a first time new mom ...\n",
      "12        I originally just gave the nanny a pad of pape...\n",
      "13        I thought keeping a simple handwritten journal...\n",
      "14        Space for monthly photos info and a lot of use...\n",
      "15        I bought this calender for myself for my secon...\n",
      "16        I love this little calender you can keep track...\n",
      "17        This was the only calender I could find for th...\n",
      "18        I completed a calendar for my sons first year ...\n",
      "19        We wanted to get something to keep track of ou...\n",
      "20        I had a hard time finding a second year calend...\n",
      "21        I only purchased a secondyear calendar for my ...\n",
      "22        I LOVE this calendar for recording events of m...\n",
      "23        Calendar is exactly as described but I find th...\n",
      "24        Wife loves this calender Comes with a lot of s...\n",
      "25        My daughter had her 1st baby over a year ago S...\n",
      "26        Extremely useful As a new mom tired and inexpe...\n",
      "27        My son loves peek a boo at this age of 9 month...\n",
      "28        One of babys first and favorite books and it i...\n",
      "29        I like how the book has a hook to attach it to...\n",
      "                                ...                        \n",
      "183501    I received a free sample from VIPU program for...\n",
      "183502    It got here incredibly fast  it is a nice dura...\n",
      "183503    I got this case in the mail today it came on t...\n",
      "183504    Free caseLove it The color was great firm hold...\n",
      "183505    I received a free sample from VIPU program for...\n",
      "183506    This case definitely isnt cheap It feels very ...\n",
      "183507    got this for my wife and she loves it would de...\n",
      "183508    love this case It fit perfectly and the color ...\n",
      "183509    this case is the greatest very cool and stylis...\n",
      "183510                  Great fit Really love how red it is\n",
      "183511    I received a free sample from VIPU program for...\n",
      "183512    I received a free sample from VIPU program for...\n",
      "183513    I was a very surprised by the quality of this ...\n",
      "183514    I received a free sample from VIPU program for...\n",
      "183515    I love this phone case  My  iPhone is always s...\n",
      "183516    Ive ordered a ton of 34suckers34 to try and fi...\n",
      "183517    I recieved this product free of charge and abs...\n",
      "183518    The tube is soft and easy to use and the tip i...\n",
      "183519    I love this so much It works way better than t...\n",
      "183520    The aspirator works well but needs to come wit...\n",
      "183521    Up until recently I have hated flying putting ...\n",
      "183522    I bought this as a fathers day gift for my dad...\n",
      "183523    I love that these can hold purees OR liquids a...\n",
      "183524    I love this product it makes my life easier Wi...\n",
      "183525    This reusable squeeze bottle is the best I hav...\n",
      "183526    Such a great idea very handy to have and look ...\n",
      "183527    This product rocks  It is a great blend of fun...\n",
      "183528    This item looks great and cool for my kidsI kn...\n",
      "183529    I am extremely happy with this product I have ...\n",
      "183530    I love this product very mush  I have bought m...\n",
      "Name: review_clean, dtype: object\n"
     ]
    }
   ],
   "source": [
    "import string as st\n",
    "\n",
    "def remove_punctuation(text):\n",
    "    translator = str.maketrans({key: None for key in st.punctuation})\n",
    "    text = str( text )\n",
    "    text = text.translate( translator )\n",
    "    return text\n",
    "\n",
    "products[ 'review_clean' ] = products[ 'review' ].apply( remove_punctuation )\n",
    "print( products[ 'review_clean' ] )"
   ]
  },
  {
   "cell_type": "markdown",
   "metadata": {},
   "source": [
    "2.C. "
   ]
  },
  {
   "cell_type": "code",
   "execution_count": 4,
   "metadata": {
    "collapsed": false
   },
   "outputs": [],
   "source": [
    "products = products.fillna({'review':''})  # fill in N/A's in the review column"
   ]
  },
  {
   "cell_type": "markdown",
   "metadata": {
    "collapsed": false
   },
   "source": [
    "2.D."
   ]
  },
  {
   "cell_type": "code",
   "execution_count": 5,
   "metadata": {
    "collapsed": false
   },
   "outputs": [
    {
     "name": "stdout",
     "output_type": "stream",
     "text": [
      "1         1\n",
      "2         1\n",
      "3         1\n",
      "4         1\n",
      "5         1\n",
      "6         1\n",
      "7         1\n",
      "8         1\n",
      "9         1\n",
      "10        1\n",
      "11        1\n",
      "12        1\n",
      "14        1\n",
      "15        1\n",
      "16        1\n",
      "17        1\n",
      "18        1\n",
      "19        1\n",
      "20        1\n",
      "21       -1\n",
      "22        1\n",
      "24        1\n",
      "25        1\n",
      "26        1\n",
      "28        1\n",
      "29        1\n",
      "30        1\n",
      "31        1\n",
      "32        1\n",
      "33        1\n",
      "         ..\n",
      "183499    1\n",
      "183500    1\n",
      "183501    1\n",
      "183502    1\n",
      "183503   -1\n",
      "183504    1\n",
      "183505    1\n",
      "183506    1\n",
      "183507    1\n",
      "183508    1\n",
      "183509    1\n",
      "183510    1\n",
      "183512    1\n",
      "183513    1\n",
      "183514    1\n",
      "183515    1\n",
      "183517    1\n",
      "183518    1\n",
      "183519    1\n",
      "183520    1\n",
      "183521    1\n",
      "183522    1\n",
      "183523    1\n",
      "183524    1\n",
      "183525    1\n",
      "183526    1\n",
      "183527    1\n",
      "183528    1\n",
      "183529    1\n",
      "183530    1\n",
      "Name: sentiment, dtype: int64\n"
     ]
    }
   ],
   "source": [
    "products = products[products['rating'] != 3]\n",
    "\n",
    "products['sentiment'] = products['rating'].apply(lambda rating : +1 if rating > 3 else -1)\n",
    "print( products[ \"sentiment\" ] )"
   ]
  },
  {
   "cell_type": "markdown",
   "metadata": {},
   "source": [
    "3.A. \n",
    "\n",
    "I should construct an classifier because I want to classify positive/negative. For the first time let me try logistic regression.\n",
    "\n",
    "3.B."
   ]
  },
  {
   "cell_type": "code",
   "execution_count": 6,
   "metadata": {
    "collapsed": false
   },
   "outputs": [
    {
     "name": "stdout",
     "output_type": "stream",
     "text": [
      "                                                    name  \\\n",
      "0                            Kel-Gar Snug Tub - Elephant   \n",
      "1      [Award winning] Kidsme Food Feeder (Small size...   \n",
      "2      Dr. Brown's 3 Pack BPA Free Polypropylene Bott...   \n",
      "3        Ameda Purely Yours Ultra Transformer AC Adapter   \n",
      "4      The First Years 6 Count Take &amp; Toss Spill ...   \n",
      "5                           Bright Starts Starry Teether   \n",
      "6      Baby Washable Reusable Cloth Pocket Diaper wit...   \n",
      "7                     OXO Tot Sprout Chair, Orange/Birch   \n",
      "8      Pumpin' Pal Super Shields, Angled Pumping Flan...   \n",
      "9                      Baby Buddy: Baby's 1st Toothbrush   \n",
      "10     Baby Jogger City Mini GT Single Stroller, Shad...   \n",
      "11                  Baby's First Laptop Computer Playset   \n",
      "12                    Dr. Brown's Formula Mixing Pitcher   \n",
      "13     Britax Boulevard Convertible Car Seat, Brownstone   \n",
      "14     Summer Infant Secure Sight Digital Color Video...   \n",
      "15                         NoJo Jungle Tales Night Light   \n",
      "16     Cosco Juvenile Top Side Booster Car Seat, Magenta   \n",
      "17                     Leachco Snoogle Total Body Pillow   \n",
      "18                      Earlyears Roll n Swirl Ball Ramp   \n",
      "19     Kiddopotamus Elite Duomat 2 in 1 Car Seat Prot...   \n",
      "20                                    Chilly Dilly Daisy   \n",
      "21               KidCo Bath Toy Organizer Storage Basket   \n",
      "22                                  Clip-On Stroller Fan   \n",
      "23                   JJ Cole Urban Bundleme, Ice, Infant   \n",
      "24     Cotton Tale Designs Lizzie 4 Piece Crib Beddin...   \n",
      "25     Puma Baby All White Gripper Socks- 3 Pack(Infa...   \n",
      "26     **** 4 Pack **** Mommy's Helper Safe-Lok Cabin...   \n",
      "27                   Delta Children's Products Soho Crib   \n",
      "28            Skip Hop Zoo Pack Little Kid Backpack, Dog   \n",
      "29              Summer Infant Slumber Buddies, Butterfly   \n",
      "...                                                  ...   \n",
      "33321  Playtex VentAire Natural Nipples, Slow Flow, 2 ea   \n",
      "33322        Disney Rapunzel 4 Piece Toddler Set, Purple   \n",
      "33323               Zoobies Plush Toy, Furbie The Feline   \n",
      "33324  Kate Aspen Petal Pretty Gerbera Daisy Place Ca...   \n",
      "33325                  Medela Nipple Shield Regular 24mm   \n",
      "33326  BabyPing Secure Wi-Fi Baby Monitor for iPhone,...   \n",
      "33327  green sprouts Lunch Chillers, Garden Bug, 3-Count   \n",
      "33328  SOHO Curious Monkey 5 in 1 Deluxe Diaper Bag *...   \n",
      "33329           DaVinci Monterey Changing Table - Cherry   \n",
      "33330               Lamaze Spin &amp; Explore Garden Gym   \n",
      "33331               Diono SantaFe Car Seat Booster, Pink   \n",
      "33332  Thirsties Duo Wrap Snap, Ocean Blue, Size One ...   \n",
      "33333       Evenflo Snugli Front &amp; Back Pack Carrier   \n",
      "33334  DaVinci Thompson 4-in-1 Convertible Crib with ...   \n",
      "33335                       KidKusion KidSafe Deck Guard   \n",
      "33336  Baby Aspen Big Dreamzzz&#157; Baby Chef Layett...   \n",
      "33337  12 Volt Vehicle Car Lighter Adaptor for Medela...   \n",
      "33338     Safety 1st Soothing Mist Ultrasonic Humidifier   \n",
      "33339         Philips Avent Express Microwave Sterilizer   \n",
      "33340                   Baby Ddrops&reg; 400 IU 90 drops   \n",
      "33341  Thermos FOOGO Phases Straw Bottle, Blue/Yellow...   \n",
      "33342  Graco TotBloc Pack 'N Play with Carry Bag, Bug...   \n",
      "33343                 Baby Sherpa Diaper Backpack - Navy   \n",
      "33344  Sticky Bellies -Sticky Bellies Monthly Milesto...   \n",
      "33345    Winnie the Pooh Terry Bib - Blue, Pink or Green   \n",
      "33346  Britax Marathon 70 Convertible Car Seat (Previ...   \n",
      "33347  HALO SleepSack 100% Cotton Swaddle, Soft Pink,...   \n",
      "33348                    Samsung Smart View Baby Monitor   \n",
      "33349               Tommee Tippee Electric Bottle Warmer   \n",
      "33350     KidCo GoPod Portable Activity Seat - Pistachio   \n",
      "\n",
      "                                                  review  rating  \\\n",
      "0      This is perfect for my 15 month baby whose 32 ...       5   \n",
      "1      I should have checked the reviews before buyin...       2   \n",
      "2      Dr. Brown's bottles are made in excellent qual...       5   \n",
      "3      First of all, this is not an Ameda part, as ad...       1   \n",
      "4      although i was happy with my other set of sipp...       1   \n",
      "5      Our son became interested in this teether at 4...       4   \n",
      "6      Love these cloth diapers.  They work very well...       5   \n",
      "7      Love this chair so far. One of the nicest look...       5   \n",
      "8      I absolutely love this product. they make pump...       5   \n",
      "9      he likes chewing this.  we let him have it for...       4   \n",
      "10     In 2 years, this is my 5th stroller.  I resear...       5   \n",
      "11     RUBISH! DONT LIKE THIS AT ALL YOU GUYS SHOULD ...       1   \n",
      "12     My triplets get half formula and half breastmi...       4   \n",
      "13     Failed to post this review when purchased a co...       5   \n",
      "14     The monitor will go out of range if I go to th...       2   \n",
      "15     Loved this, matched the bedding, but no off sw...       2   \n",
      "16     I needed to fit 3 boosters in the back seat of...       5   \n",
      "17     Last pregnancy I ordered the &#34;Leachco Back...       5   \n",
      "18     We got this for our little one's 1st Christmas...       5   \n",
      "19     I ordered this recently, and just returned it ...       2   \n",
      "20     my baby can actuly hold this toy by self and f...       5   \n",
      "21     Not functional when you have two kids that you...       2   \n",
      "22     I wish I had gotten this sooner, as my now 3 1...       4   \n",
      "23     I loved the infant Urban BundleMe we used last...       5   \n",
      "24     I really love this bedding I ordered for my fi...       5   \n",
      "25     I was able to find lots of brands that had 6-1...       5   \n",
      "26     I checked the reviews for many products here a...       5   \n",
      "27     We saw this crib at Babies R Us but they only ...       5   \n",
      "28     I bought this bag because it was super cute an...       4   \n",
      "29     The girls who were visiting us were thrilled w...       5   \n",
      "...                                                  ...     ...   \n",
      "33321  YOu can't go wrong with playtex nipples. I&#34...       5   \n",
      "33322  The product was as described. Comforter was so...       4   \n",
      "33323  The other review states it doesn't look like a...       4   \n",
      "33324  Perfect for gift cards for teachers at the end...       5   \n",
      "33325  These were a lifesaver for my child (who had a...       5   \n",
      "33326  This product includes a great camera and a cra...       2   \n",
      "33327  So far these have been great. They fit nicely ...       5   \n",
      "33328  Great bag!  It fits all my needs and holds the...       4   \n",
      "33329  Short version:In just over a year this product...       2   \n",
      "33330  On time from when I ordered and love the produ...       5   \n",
      "33331  This has worked out well.  It is easy to switc...       5   \n",
      "33332  This diaper has contained what it needs to and...       5   \n",
      "33333  The neck support for the newborn position didn...       2   \n",
      "33334  We have had this crib for about a year. We too...       5   \n",
      "33335  I like that it's made of durable, but transpar...       5   \n",
      "33336  Cousin owns a business in which he is constant...       5   \n",
      "33337  Great accessory for on-the-go moms! Same quali...       5   \n",
      "33338  Does a great jobof putting moisture into air i...       5   \n",
      "33339  This item is very useful, although I feel ther...       4   \n",
      "33340  No taste whatsoever.  Yes, I taste everything ...       5   \n",
      "33341  My daughter loves this cup. Its made well and ...       5   \n",
      "33342  We had two babies 17 months apart. They are 5 ...       5   \n",
      "33343  Got this about 7 weeks ago and it is already s...       1   \n",
      "33344  These stickers are the perfect size!  They arr...       5   \n",
      "33345  I like how the bibs go with the decor of the b...       5   \n",
      "33346  I have had it for 2 years now, and it is a gre...       5   \n",
      "33347  I ordered this as a gift for a baby shower and...       1   \n",
      "33348  I'veh always really loved Samsung products and...       1   \n",
      "33349  Fits the odd-size Tommee Tippee bottles, which...       5   \n",
      "33350  the twins love it will be so nice to take camp...       5   \n",
      "\n",
      "                                            review_clean  sentiment  \n",
      "0      This is perfect for my 15 month baby whose 32 ...          1  \n",
      "1      I should have checked the reviews before buyin...         -1  \n",
      "2      Dr Browns bottles are made in excellent qualit...          1  \n",
      "3      First of all this is not an Ameda part as adve...         -1  \n",
      "4      although i was happy with my other set of sipp...         -1  \n",
      "5      Our son became interested in this teether at 4...          1  \n",
      "6      Love these cloth diapers  They work very well ...          1  \n",
      "7      Love this chair so far One of the nicest looki...          1  \n",
      "8      I absolutely love this product they make pumpi...          1  \n",
      "9      he likes chewing this  we let him have it for ...          1  \n",
      "10     In 2 years this is my 5th stroller  I research...          1  \n",
      "11     RUBISH DONT LIKE THIS AT ALL YOU GUYS SHOULD S...         -1  \n",
      "12     My triplets get half formula and half breastmi...          1  \n",
      "13     Failed to post this review when purchased a co...          1  \n",
      "14     The monitor will go out of range if I go to th...         -1  \n",
      "15     Loved this matched the bedding but no off swit...         -1  \n",
      "16     I needed to fit 3 boosters in the back seat of...          1  \n",
      "17     Last pregnancy I ordered the 34Leachco Back N ...          1  \n",
      "18     We got this for our little ones 1st Christmas ...          1  \n",
      "19     I ordered this recently and just returned it w...         -1  \n",
      "20     my baby can actuly hold this toy by self and f...          1  \n",
      "21     Not functional when you have two kids that you...         -1  \n",
      "22     I wish I had gotten this sooner as my now 3 12...          1  \n",
      "23     I loved the infant Urban BundleMe we used last...          1  \n",
      "24     I really love this bedding I ordered for my fi...          1  \n",
      "25     I was able to find lots of brands that had 612...          1  \n",
      "26     I checked the reviews for many products here a...          1  \n",
      "27     We saw this crib at Babies R Us but they only ...          1  \n",
      "28     I bought this bag because it was super cute an...          1  \n",
      "29     The girls who were visiting us were thrilled w...          1  \n",
      "...                                                  ...        ...  \n",
      "33321  YOu cant go wrong with playtex nipples I34m go...          1  \n",
      "33322  The product was as described Comforter was sof...          1  \n",
      "33323  The other review states it doesnt look like a ...          1  \n",
      "33324  Perfect for gift cards for teachers at the end...          1  \n",
      "33325  These were a lifesaver for my child who had a ...          1  \n",
      "33326  This product includes a great camera and a cra...         -1  \n",
      "33327  So far these have been great They fit nicely i...          1  \n",
      "33328  Great bag  It fits all my needs and holds the ...          1  \n",
      "33329  Short versionIn just over a year this product ...         -1  \n",
      "33330  On time from when I ordered and love the produ...          1  \n",
      "33331  This has worked out well  It is easy to switch...          1  \n",
      "33332  This diaper has contained what it needs to and...          1  \n",
      "33333  The neck support for the newborn position didn...         -1  \n",
      "33334  We have had this crib for about a year We took...          1  \n",
      "33335  I like that its made of durable but transparen...          1  \n",
      "33336  Cousin owns a business in which he is constant...          1  \n",
      "33337  Great accessory for onthego moms Same quality ...          1  \n",
      "33338  Does a great jobof putting moisture into air i...          1  \n",
      "33339  This item is very useful although I feel there...          1  \n",
      "33340  No taste whatsoever  Yes I taste everything ne...          1  \n",
      "33341  My daughter loves this cup Its made well and e...          1  \n",
      "33342  We had two babies 17 months apart They are 5 a...          1  \n",
      "33343  Got this about 7 weeks ago and it is already s...         -1  \n",
      "33344  These stickers are the perfect size  They arri...          1  \n",
      "33345  I like how the bibs go with the decor of the b...          1  \n",
      "33346  I have had it for 2 years now and it is a grea...          1  \n",
      "33347  I ordered this as a gift for a baby shower and...         -1  \n",
      "33348  Iveh always really loved Samsung products and ...         -1  \n",
      "33349  Fits the oddsize Tommee Tippee bottles which n...          1  \n",
      "33350  the twins love it will be so nice to take camp...          1  \n",
      "\n",
      "[33351 rows x 5 columns]\n",
      "                                                     name  \\\n",
      "0                           Baby Trend Snap N Go Stroller   \n",
      "1                               Infantino Squeeze Station   \n",
      "2                                 Safety 1st Bath Toy Bag   \n",
      "3                   Wide Neck Baby Bottle 10 Oz. 1 Bottle   \n",
      "4       Nurtria Basic BPA Free Sippy Cups 6 pack - Blu...   \n",
      "5       Udder Covers - Breast Feeding Nursing Cover (J...   \n",
      "6                Kidsline Sorbet 6 Piece Crib Bedding Set   \n",
      "7           Prince Lionheart Warmies Reusable Cloth Wipes   \n",
      "8       Zebra Baby Blanket in Faux Fur with Black Sati...   \n",
      "9           Regalo 192-Inch Super Wide Gate and Play Yard   \n",
      "10                 Medela Pump in Style Advanced Backpack   \n",
      "11           aden + anais Organic Muslin Crib Sheet, Pure   \n",
      "12      Thirsties Duo Wrap Diaper Cover with Hook and ...   \n",
      "13      Child's Third Christmas - Bear 2004 Hallmark O...   \n",
      "14      Balboa Baby Dr. Sears Adjustable Sling, Blue P...   \n",
      "15      Mam Love And Affection Size One Silicone Value...   \n",
      "16          Munchkin Stroller Insulated Cup Holder, Black   \n",
      "17      Kate Aspen Tweet Baby Mamma and Baby Bird Stai...   \n",
      "18                             Gold Bug All Around Suport   \n",
      "19      Kiddopotamus Elite Duomat 2 in 1 Car Seat Prot...   \n",
      "20      Lifefactory Sippy Caps for 9-Ounce Glass Bever...   \n",
      "21                   BRICA Super Scoop Bath Toy Organizer   \n",
      "22        Carters Easy Fit Sateen Crib Fitted Sheet, Ecru   \n",
      "23                  BSF Baby Megan Changing Table, Cherry   \n",
      "24                    Motorola Digital Audio Baby Monitor   \n",
      "25         Delta Universal 6 Drawer Dresser, Black Cherry   \n",
      "26      Dr. Brown's 3 Pack BPA Free Polypropylene Bott...   \n",
      "27      babyletto Mercer 3-in-1 Convertible Crib with ...   \n",
      "28                 The First Years Happy Flyer Tummy Time   \n",
      "29      Kidkusion Toddler Corner Kushions Off White - ...   \n",
      "...                                                   ...   \n",
      "133371  Graco RoomFor2 Stand and Ride Classic Connect ...   \n",
      "133372                    Fisher-Price Cheer for Me Potty   \n",
      "133373  Baby Food Containers- Sprout Cups - Reusable S...   \n",
      "133374  Thermos Foogo Leak-Proof Stainless Steel 10-Ou...   \n",
      "133375    North States Superyard Play Yard, Grey, 6 Panel   \n",
      "133376      green sprouts Cornstarch Divided Plate, Green   \n",
      "133377              Baby Einstein Count and Compose Piano   \n",
      "133378                           Nuby 6-Piece Medical Kit   \n",
      "133379              Tiny Love 3 in 1 Rocker Napper, Brown   \n",
      "133380         BooginHead Pacifier Holder, Pink Polka Dot   \n",
      "133381                            Sweet Baby Girl Blanket   \n",
      "133382  Badger Basket Five Basket Storage Unit with Wi...   \n",
      "133383  RayShade&reg; UV Protective Stroller Shade Imp...   \n",
      "133384                              Ameda ComfortGel Pads   \n",
      "133385  Leachco Back 'N Belly Contoured Body Pillow, I...   \n",
      "133386     Marvels One Size Diaper Cover, Chocolate Brown   \n",
      "133387  BabyNeat Waterproof Crib Pad: Multi-Use Mattre...   \n",
      "133388               Graco Bumper Jumper in Little Jungle   \n",
      "133389  Fisher-Price Cradle 'N Swing,  My Little Snuga...   \n",
      "133390  Under the Sea Tropical Fish Nursery/Kids Room ...   \n",
      "133391        Dr. Brown's 3-pack 8-ounce Standard Bottles   \n",
      "133392  Rumparooz Reusable Cloth Pocket Diaper, Ladder...   \n",
      "133393       Bright Starts Having a Ball Alphabet Pop Top   \n",
      "133394  Phil&amp;Teds Promenade Buggy Single Stroller ...   \n",
      "133395                   Kalencom 2-in-1 Potette Plus Red   \n",
      "133396              Carter's First Year Calendar, Blossom   \n",
      "133397        Prince Lionheart Soft Booster Seat in Green   \n",
      "133398                   Vulli Sophie the Giraffe Teether   \n",
      "133399                       KidCo Center Gateway - White   \n",
      "133400  Safety 1st Complete Air 65 Convertible Car Sea...   \n",
      "\n",
      "                                                   review  rating  \\\n",
      "0       Don't know what I would do without this as a n...       5   \n",
      "1       I was leery on spending so much on a device th...       5   \n",
      "2       The suction cups will not stick to ANY surface...       1   \n",
      "3       I like these bottles, there's nothing special ...       5   \n",
      "4       These cups are sturdy, lids snap on tight.  Go...       5   \n",
      "5       I have two of these covers and love the patter...       4   \n",
      "6       I just received this crib bedding today, and i...       5   \n",
      "7       After a couple of washes the warmies are comin...       1   \n",
      "8       I love it! It is a smaller blanket but I knew ...       5   \n",
      "9       I normally wait a little longer to write a rev...       5   \n",
      "10      I really loved it because its double phase exp...       5   \n",
      "11      We bought an organic mattress (Colgate Eco Cla...       5   \n",
      "12      I love this cover - the double gussets keep it...       4   \n",
      "13      this was great fun for 3 year old. He get to d...       5   \n",
      "14      I have had this for 18 months, tried it severa...       1   \n",
      "15      I think these pacifiers are great; they work e...       5   \n",
      "16                          The cup fallls off too easily       2   \n",
      "17      My friend was having a baby and &#34; chubby b...       5   \n",
      "18      Please be aware that anything you place behind...       1   \n",
      "19      Outstanding quality, simple to install and fit...       5   \n",
      "20      After originally posting a review with 1 star,...       2   \n",
      "21      This scoop is cool for picking up the toys qui...       4   \n",
      "22      Based on other reviews I thought this sheet wo...       2   \n",
      "23      This is a very beautiful piece of quality furn...       5   \n",
      "24      This monitor has incredible range (I'll try to...       4   \n",
      "25      This looks great in my nursery! Deep drawers h...       5   \n",
      "26      I haven't used any other bottles so I don't ha...       4   \n",
      "27      Great quality and so beautiful. Easy to assemb...       5   \n",
      "28      The First Years Happy Flyer arrived quickly an...       5   \n",
      "29      Got them up and everything is great now. Defin...       5   \n",
      "...                                                   ...     ...   \n",
      "133371  This stroller was just what I needed for a 8mo...       5   \n",
      "133372  This product is cute, functional and I really ...       4   \n",
      "133373  These aren't perfect but they get the job done...       4   \n",
      "133374  I ordered two of these thermoses for my kids' ...       5   \n",
      "133375  We bought this play yard to box off an area ar...       5   \n",
      "133376  Loved it, easy to clean, the little animals do...       5   \n",
      "133377  Mine may have been defective. you would press ...       1   \n",
      "133378  This medical kit is very cheap. I tried using ...       1   \n",
      "133379  It is a very cute napper and the converting fr...       4   \n",
      "133380  We bought this pacifier for our new baby boy, ...       5   \n",
      "133381  This is one of many blankets I purchased or re...       5   \n",
      "133382  I am VERY upset over this product!! Although i...       1   \n",
      "133383  Everytime I go out with this cover, 5 people a...       5   \n",
      "133384  I just ordered a 3rd pair for my wife. If you ...       5   \n",
      "133385  I was starting to wake up from bad back pain i...       5   \n",
      "133386  I can't even tell you how excited I am about t...       5   \n",
      "133387  This is not bad, but it could be better, it is...       4   \n",
      "133388  Our little one loved this bouncy chair. It is ...       5   \n",
      "133389  The swing is great and my daughter loves it! I...       5   \n",
      "133390  I love the tropical fish decals I ordered. I p...       5   \n",
      "133391  My first child had reflux and I didn't want my...       5   \n",
      "133392  This is truly a FANTASTIC pocket diaper. We us...       5   \n",
      "133393  I bought this for my son when he was about 5 m...       5   \n",
      "133394  Talk about a Stroller with options. You go out...       5   \n",
      "133395  Ah, the potette plus.  It made potty training ...       5   \n",
      "133396  It's been 3 months and I've had a great time m...       5   \n",
      "133397  My daughter was tired of her 'baby' booster wi...       5   \n",
      "133398  I got this Vulli Sophie for my 3 month old and...       5   \n",
      "133399  This is a nice solid gate. Like few other revi...       4   \n",
      "133400  I did a lot of research before choosing this c...       5   \n",
      "\n",
      "                                             review_clean  sentiment  \n",
      "0       Dont know what I would do without this as a ne...          1  \n",
      "1       I was leery on spending so much on a device th...          1  \n",
      "2       The suction cups will not stick to ANY surface...         -1  \n",
      "3       I like these bottles theres nothing special or...          1  \n",
      "4       These cups are sturdy lids snap on tight  Good...          1  \n",
      "5       I have two of these covers and love the patter...          1  \n",
      "6       I just received this crib bedding today and it...          1  \n",
      "7       After a couple of washes the warmies are comin...         -1  \n",
      "8       I love it It is a smaller blanket but I knew t...          1  \n",
      "9       I normally wait a little longer to write a rev...          1  \n",
      "10      I really loved it because its double phase exp...          1  \n",
      "11      We bought an organic mattress Colgate Eco Clas...          1  \n",
      "12      I love this cover  the double gussets keep it ...          1  \n",
      "13      this was great fun for 3 year old He get to de...          1  \n",
      "14      I have had this for 18 months tried it several...         -1  \n",
      "15      I think these pacifiers are great they work ei...          1  \n",
      "16                          The cup fallls off too easily         -1  \n",
      "17      My friend was having a baby and 34 chubby bird...          1  \n",
      "18      Please be aware that anything you place behind...         -1  \n",
      "19      Outstanding quality simple to install and fit ...          1  \n",
      "20      After originally posting a review with 1 star ...         -1  \n",
      "21      This scoop is cool for picking up the toys qui...          1  \n",
      "22      Based on other reviews I thought this sheet wo...         -1  \n",
      "23      This is a very beautiful piece of quality furn...          1  \n",
      "24      This monitor has incredible range Ill try to p...          1  \n",
      "25      This looks great in my nursery Deep drawers ho...          1  \n",
      "26      I havent used any other bottles so I dont have...          1  \n",
      "27      Great quality and so beautiful Easy to assembl...          1  \n",
      "28      The First Years Happy Flyer arrived quickly an...          1  \n",
      "29      Got them up and everything is great now Defini...          1  \n",
      "...                                                   ...        ...  \n",
      "133371  This stroller was just what I needed for a 8mo...          1  \n",
      "133372  This product is cute functional and I really t...          1  \n",
      "133373  These arent perfect but they get the job done ...          1  \n",
      "133374  I ordered two of these thermoses for my kids l...          1  \n",
      "133375  We bought this play yard to box off an area ar...          1  \n",
      "133376  Loved it easy to clean the little animals dont...          1  \n",
      "133377  Mine may have been defective you would press h...         -1  \n",
      "133378  This medical kit is very cheap I tried using t...         -1  \n",
      "133379  It is a very cute napper and the converting fr...          1  \n",
      "133380  We bought this pacifier for our new baby boy o...          1  \n",
      "133381  This is one of many blankets I purchased or re...          1  \n",
      "133382  I am VERY upset over this product Although it ...         -1  \n",
      "133383  Everytime I go out with this cover 5 people as...          1  \n",
      "133384  I just ordered a 3rd pair for my wife If you h...          1  \n",
      "133385  I was starting to wake up from bad back pain i...          1  \n",
      "133386  I cant even tell you how excited I am about th...          1  \n",
      "133387  This is not bad but it could be better it is a...          1  \n",
      "133388  Our little one loved this bouncy chair It is o...          1  \n",
      "133389  The swing is great and my daughter loves it I ...          1  \n",
      "133390  I love the tropical fish decals I ordered I pu...          1  \n",
      "133391  My first child had reflux and I didnt want my ...          1  \n",
      "133392  This is truly a FANTASTIC pocket diaper We use...          1  \n",
      "133393  I bought this for my son when he was about 5 m...          1  \n",
      "133394  Talk about a Stroller with options You go out ...          1  \n",
      "133395  Ah the potette plus  It made potty training ou...          1  \n",
      "133396  Its been 3 months and Ive had a great time mak...          1  \n",
      "133397  My daughter was tired of her baby booster with...          1  \n",
      "133398  I got this Vulli Sophie for my 3 month old and...          1  \n",
      "133399  This is a nice solid gate Like few other revie...          1  \n",
      "133400  I did a lot of research before choosing this c...          1  \n",
      "\n",
      "[133401 rows x 5 columns]\n"
     ]
    }
   ],
   "source": [
    "train_data, test_data = train_test_split( products, test_size = 0.2)\n",
    "\n",
    "test_data.reset_index(drop=True, inplace = True)\n",
    "train_data.reset_index(drop=True, inplace = True)\n",
    "\n",
    "print( test_data )\n",
    "print( train_data )"
   ]
  },
  {
   "cell_type": "markdown",
   "metadata": {},
   "source": [
    "3.C."
   ]
  },
  {
   "cell_type": "code",
   "execution_count": 7,
   "metadata": {
    "collapsed": false
   },
   "outputs": [
    {
     "name": "stdout",
     "output_type": "stream",
     "text": [
      "  (0, 35343)\t1\n",
      "  (0, 59672)\t1\n",
      "  (0, 118052)\t1\n",
      "  (0, 53988)\t1\n",
      "  (0, 119997)\t1\n",
      "  (0, 34966)\t1\n",
      "  (0, 119200)\t1\n",
      "  (0, 107156)\t1\n",
      "  (0, 11979)\t1\n",
      "  (0, 7114)\t3\n",
      "  (0, 70625)\t2\n",
      "  (0, 67669)\t1\n",
      "  (0, 115147)\t1\n",
      "  (0, 81329)\t1\n",
      "  (0, 10281)\t4\n",
      "  (0, 37306)\t1\n",
      "  (0, 108591)\t2\n",
      "  (0, 113903)\t1\n",
      "  (0, 44020)\t1\n",
      "  (0, 113373)\t1\n",
      "  (0, 112675)\t1\n",
      "  (0, 37201)\t1\n",
      "  (0, 118184)\t1\n",
      "  (0, 57773)\t1\n",
      "  (0, 58777)\t2\n",
      "  :\t:\n",
      "  (133400, 22363)\t1\n",
      "  (133400, 82687)\t1\n",
      "  (133400, 86575)\t1\n",
      "  (133400, 41127)\t1\n",
      "  (133400, 60307)\t1\n",
      "  (133400, 101313)\t1\n",
      "  (133400, 88584)\t1\n",
      "  (133400, 41931)\t1\n",
      "  (133400, 71732)\t1\n",
      "  (133400, 59916)\t1\n",
      "  (133400, 26410)\t1\n",
      "  (133400, 69211)\t1\n",
      "  (133400, 62447)\t1\n",
      "  (133400, 93074)\t1\n",
      "  (133400, 24426)\t1\n",
      "  (133400, 114845)\t1\n",
      "  (133400, 86624)\t1\n",
      "  (133400, 28168)\t1\n",
      "  (133400, 92660)\t1\n",
      "  (133400, 10270)\t1\n",
      "  (133400, 90380)\t1\n",
      "  (133400, 86182)\t1\n",
      "  (133400, 78966)\t1\n",
      "  (133400, 30624)\t1\n",
      "  (133400, 45622)\t1\n",
      "  (0, 915)\t1\n",
      "  (0, 1980)\t1\n",
      "  (0, 2450)\t1\n",
      "  (0, 9331)\t1\n",
      "  (0, 10281)\t2\n",
      "  (0, 12387)\t1\n",
      "  (0, 13383)\t1\n",
      "  (0, 24865)\t1\n",
      "  (0, 30340)\t1\n",
      "  (0, 37306)\t1\n",
      "  (0, 44303)\t1\n",
      "  (0, 48453)\t1\n",
      "  (0, 52528)\t1\n",
      "  (0, 54777)\t1\n",
      "  (0, 56875)\t1\n",
      "  (0, 57773)\t1\n",
      "  (0, 60583)\t1\n",
      "  (0, 62672)\t1\n",
      "  (0, 63892)\t1\n",
      "  (0, 68080)\t1\n",
      "  (0, 69525)\t1\n",
      "  (0, 72150)\t1\n",
      "  (0, 78574)\t1\n",
      "  (0, 84637)\t1\n",
      "  (0, 86527)\t1\n",
      "  :\t:\n",
      "  (33349, 105926)\t1\n",
      "  (33349, 108473)\t1\n",
      "  (33349, 109067)\t1\n",
      "  (33349, 116338)\t1\n",
      "  (33349, 118052)\t1\n",
      "  (33349, 118228)\t1\n",
      "  (33350, 10281)\t1\n",
      "  (33350, 12831)\t1\n",
      "  (33350, 15494)\t1\n",
      "  (33350, 16860)\t1\n",
      "  (33350, 21632)\t1\n",
      "  (33350, 50720)\t1\n",
      "  (33350, 57172)\t1\n",
      "  (33350, 58687)\t1\n",
      "  (33350, 58777)\t1\n",
      "  (33350, 63240)\t1\n",
      "  (33350, 70874)\t1\n",
      "  (33350, 97541)\t1\n",
      "  (33350, 103029)\t1\n",
      "  (33350, 104648)\t1\n",
      "  (33350, 105734)\t1\n",
      "  (33350, 105926)\t3\n",
      "  (33350, 108591)\t1\n",
      "  (33350, 111675)\t1\n",
      "  (33350, 118697)\t1\n"
     ]
    }
   ],
   "source": [
    "from sklearn.feature_extraction.text import CountVectorizer\n",
    "\n",
    "vectorizer = CountVectorizer(token_pattern=r'\\b\\w+\\b') #The simplest pattern\n",
    "train_matrix = vectorizer.fit_transform(train_data['review_clean'])\n",
    "test_matrix = vectorizer.transform(test_data['review_clean'])\n",
    "\n",
    "print( train_matrix )\n",
    "print( test_matrix )\n"
   ]
  },
  {
   "cell_type": "markdown",
   "metadata": {},
   "source": [
    "3.D."
   ]
  },
  {
   "cell_type": "code",
   "execution_count": 8,
   "metadata": {
    "collapsed": false
   },
   "outputs": [
    {
     "data": {
      "text/plain": [
       "LogisticRegression(C=1.0, class_weight=None, dual=False, fit_intercept=True,\n",
       "          intercept_scaling=1, max_iter=100, multi_class='ovr', n_jobs=1,\n",
       "          penalty='l2', random_state=None, solver='liblinear', tol=0.0001,\n",
       "          verbose=0, warm_start=False)"
      ]
     },
     "execution_count": 8,
     "metadata": {},
     "output_type": "execute_result"
    }
   ],
   "source": [
    "from sklearn import linear_model\n",
    "\n",
    "sentiment_model = linear_model.LogisticRegression()\n",
    "\n",
    "sentiment_model.fit( train_matrix, train_data[ 'sentiment' ] )"
   ]
  },
  {
   "cell_type": "code",
   "execution_count": 9,
   "metadata": {
    "collapsed": false
   },
   "outputs": [
    {
     "name": "stdout",
     "output_type": "stream",
     "text": [
      "[[ -8.79531107e-01   1.79593769e-02   7.36696321e-03 ...,   2.75774122e-05\n",
      "    5.70562429e-03   5.68510084e-03]]\n",
      "121350\n"
     ]
    }
   ],
   "source": [
    "print( sentiment_model.coef_ )\n",
    "print( len( sentiment_model.coef_[ 0 ] ) )"
   ]
  },
  {
   "cell_type": "markdown",
   "metadata": {},
   "source": [
    "## 4.A."
   ]
  },
  {
   "cell_type": "code",
   "execution_count": 10,
   "metadata": {
    "collapsed": false
   },
   "outputs": [
    {
     "name": "stdout",
     "output_type": "stream",
     "text": [
      "85544\n"
     ]
    }
   ],
   "source": [
    "number_positive_coefficients = 0\n",
    "for coefficient in sentiment_model.coef_[ 0 ]:\n",
    "    if coefficient >= 0:\n",
    "        number_positive_coefficients += 1\n",
    "        \n",
    "print( number_positive_coefficients )"
   ]
  },
  {
   "cell_type": "markdown",
   "metadata": {},
   "source": [
    "## **Conclusion:**\n",
    "    Most of the reviews are positive.\n",
    "    \n",
    "## 4.B."
   ]
  },
  {
   "cell_type": "code",
   "execution_count": 11,
   "metadata": {
    "collapsed": false
   },
   "outputs": [
    {
     "name": "stdout",
     "output_type": "stream",
     "text": [
      "                                                 name  \\\n",
      "10  Baby Jogger City Mini GT Single Stroller, Shad...   \n",
      "11               Baby's First Laptop Computer Playset   \n",
      "12                 Dr. Brown's Formula Mixing Pitcher   \n",
      "\n",
      "                                               review  rating  \\\n",
      "10  In 2 years, this is my 5th stroller.  I resear...       5   \n",
      "11  RUBISH! DONT LIKE THIS AT ALL YOU GUYS SHOULD ...       1   \n",
      "12  My triplets get half formula and half breastmi...       4   \n",
      "\n",
      "                                         review_clean  sentiment  \n",
      "10  In 2 years this is my 5th stroller  I research...          1  \n",
      "11  RUBISH DONT LIKE THIS AT ALL YOU GUYS SHOULD S...         -1  \n",
      "12  My triplets get half formula and half breastmi...          1  \n"
     ]
    }
   ],
   "source": [
    "sample_test_data = test_data[10:13]\n",
    "print( sample_test_data )"
   ]
  },
  {
   "cell_type": "code",
   "execution_count": 12,
   "metadata": {
    "collapsed": false
   },
   "outputs": [
    {
     "name": "stdout",
     "output_type": "stream",
     "text": [
      "In 2 years, this is my 5th stroller.  I researched and watched you tube video's over and over trying to find the perfect stroller.  Each stroller I purchased, I felt it was perfect...that perfect lasted a few short months. I was a big britax fan having the b-ready (felt it was too big and sold it) then purchasing the b-agile.I really like the b-safe infant car seat and hesitated giving up my b-agile because of the snap and go compatibility, however now being compatitible with Britax I decided to sell my b-agile and buy the CM.B-Agile and City Mini GT are very similar but for me there were two big differences1. although looks the same, the CM basket is larger and accessible from the side. Makes a huge difference when trying to get things in and out.2. Adjustable handle barThese two points above have made all the difference between the b-agile and CM. I love the CM and would definitely recommend it to a friend. I also find having the forever tires,  its sturdier than the b-agile and is slightly heavier as well.Worth the extra money- you got my vote!!\n"
     ]
    }
   ],
   "source": [
    "print( sample_test_data['review'][10] )"
   ]
  },
  {
   "cell_type": "code",
   "execution_count": 13,
   "metadata": {
    "collapsed": false
   },
   "outputs": [
    {
     "name": "stdout",
     "output_type": "stream",
     "text": [
      "RUBISH! DONT LIKE THIS AT ALL YOU GUYS SHOULD STOP SELL IT DOSENT WORTH THE MONEY I WOULD NEVER ORDER IT AGAIN\n"
     ]
    }
   ],
   "source": [
    "print( sample_test_data['review'][11] )"
   ]
  },
  {
   "cell_type": "code",
   "execution_count": 14,
   "metadata": {
    "collapsed": false
   },
   "outputs": [
    {
     "name": "stdout",
     "output_type": "stream",
     "text": [
      "My triplets get half formula and half breastmilk. This pitcher allows us to make more than one feeding worth of formula. All the formula gets disolved with no clumps.Only downside is that it can squirt out the top when mixing. It says it can do 32 oz, but 28 is the max for nothing coming out the top when you mix it.\n"
     ]
    }
   ],
   "source": [
    "print( sample_test_data['review'][12] )"
   ]
  },
  {
   "cell_type": "code",
   "execution_count": 15,
   "metadata": {
    "collapsed": false
   },
   "outputs": [
    {
     "name": "stdout",
     "output_type": "stream",
     "text": [
      "[ 8.76207206 -3.75180708  3.24422683]\n"
     ]
    }
   ],
   "source": [
    "sample_test_matrix = vectorizer.transform(sample_test_data['review_clean'])\n",
    "scores = sentiment_model.decision_function(sample_test_matrix)\n",
    "print( scores )"
   ]
  },
  {
   "cell_type": "markdown",
   "metadata": {},
   "source": [
    "## Note:\n",
    "    Based on analysis of the sample_test_data the model works! Review 11 is the most positive and has the highest score."
   ]
  },
  {
   "cell_type": "code",
   "execution_count": 16,
   "metadata": {
    "collapsed": false
   },
   "outputs": [
    {
     "name": "stdout",
     "output_type": "stream",
     "text": [
      "[ 1 -1  1]\n"
     ]
    }
   ],
   "source": [
    "print( sentiment_model.predict( sample_test_matrix ) )"
   ]
  },
  {
   "cell_type": "code",
   "execution_count": 17,
   "metadata": {
    "collapsed": false
   },
   "outputs": [
    {
     "name": "stdout",
     "output_type": "stream",
     "text": [
      "10    1\n",
      "11   -1\n",
      "12    1\n",
      "Name: sentiment, dtype: int64\n"
     ]
    }
   ],
   "source": [
    "print( sample_test_data[ 'sentiment' ] )"
   ]
  },
  {
   "cell_type": "markdown",
   "metadata": {},
   "source": [
    "## Conclusions:\n",
    "    The results above show that the model got 100% accuracy on sample_test_data.\n",
    "    \n",
    "## 4.C.\n",
    "    In order to calculate probabilities I will use the following formula:\n",
    "    \n",
    "$$\n",
    "P(y_{i}|x_{i},w)=\\frac{1}{1-exp(-w^{T}h(x_{i}))}\n",
    "$$\n"
   ]
  },
  {
   "cell_type": "code",
   "execution_count": 20,
   "metadata": {
    "collapsed": false
   },
   "outputs": [
    {
     "name": "stdout",
     "output_type": "stream",
     "text": [
      "0.999843464636\n",
      "0.0229368370723\n",
      "0.962465106817\n"
     ]
    }
   ],
   "source": [
    "def probability_logistic_regression( score ):\n",
    "    return 1 / ( 1 + np.exp( score ) )\n",
    "\n",
    "for score in scores:\n",
    "    print( probability_logistic_regression( - score ) )"
   ]
  },
  {
   "cell_type": "markdown",
   "metadata": {},
   "source": [
    "## 4.D.\n",
    "\n",
    "In order to calcualte accuracy I will use the following formula:\n",
    "$$\n",
    "accuracy = \\frac{\\text{# correctly clasified}}{\\text{# all reviews}}\n",
    "$$"
   ]
  },
  {
   "cell_type": "code",
   "execution_count": 29,
   "metadata": {
    "collapsed": false
   },
   "outputs": [
    {
     "name": "stdout",
     "output_type": "stream",
     "text": [
      "0.23\n"
     ]
    }
   ],
   "source": [
    "correctly_classified = 0\n",
    "#train_data[ 'sentiment' ]\n",
    "test_sentiments_predictions = sentiment_model.predict( test_matrix )\n",
    "#print( len( test_data ) )\n",
    "#print( len( test_sentiments_predictions ) )\n",
    "\n",
    "for i in range( len( test_data ) ):\n",
    "    if test_data.loc[ i, 'sentiment' ] == test_sentiments_predictions[ i ]:\n",
    "        correctly_classified += 1\n",
    "\n",
    "print( \"%.2f\" % ( correctly_classified / len( train_data ) ) )"
   ]
  },
  {
   "cell_type": "markdown",
   "metadata": {},
   "source": [
    "## Comment\n",
    "    The sentiment_model accuracy is quite poor. Just 0.23"
   ]
  },
  {
   "cell_type": "code",
   "execution_count": null,
   "metadata": {
    "collapsed": true
   },
   "outputs": [],
   "source": []
  }
 ],
 "metadata": {
  "kernelspec": {
   "display_name": "Python 3",
   "language": "python",
   "name": "python3"
  },
  "language_info": {
   "codemirror_mode": {
    "name": "ipython",
    "version": 3
   },
   "file_extension": ".py",
   "mimetype": "text/x-python",
   "name": "python",
   "nbconvert_exporter": "python",
   "pygments_lexer": "ipython3",
   "version": "3.5.1"
  }
 },
 "nbformat": 4,
 "nbformat_minor": 0
}
